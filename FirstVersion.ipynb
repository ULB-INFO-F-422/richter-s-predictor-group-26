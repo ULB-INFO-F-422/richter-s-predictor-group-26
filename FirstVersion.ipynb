{
 "cells": [
  {
   "attachments": {},
   "cell_type": "markdown",
   "metadata": {},
   "source": [
    "# INFO-F422 -  Statistical Foundations of Machine Learning Project \n",
    "\n",
    "### Talhaoui Yassin - __[yassin.talhaoui@ulb.be](mailto:yassin.talhaoui@ulb.be)__\n",
    "### Oumahi Abdelmoumen - __[abdelmoumen.oumahi@ulb.be](mailto:abdelmoumen.oumahi@ulb.be)__\n",
    "\n",
    "## Richter's Predictor: Modeling Earthquake Damage"
   ]
  },
  {
   "attachments": {},
   "cell_type": "markdown",
   "metadata": {},
   "source": [
    "## Placement of the seed and the different packages that will be used"
   ]
  },
  {
   "cell_type": "code",
   "execution_count": 91,
   "metadata": {
    "vscode": {
     "languageId": "r"
    }
   },
   "outputs": [],
   "source": [
    "set.seed(123)"
   ]
  },
  {
   "cell_type": "code",
   "execution_count": null,
   "metadata": {
    "vscode": {
     "languageId": "r"
    }
   },
   "outputs": [],
   "source": [
    "install.packages(\"caret\")\n",
    "install.packages(\"tidyverse\")\n",
    "install.packages(\"corrplot\")\n",
    "install.packages(\"rpart\")\n",
    "install.packages(\"rpart.plot\")\n",
    "install.packages(\"matrixStats\")\n",
    "install.packages(\"MLmetrics\")"
   ]
  },
  {
   "cell_type": "code",
   "execution_count": 93,
   "metadata": {
    "vscode": {
     "languageId": "r"
    }
   },
   "outputs": [],
   "source": [
    "library(caret)\n",
    "library(tidyverse)\n",
    "library(corrplot)\n",
    "library(rpart)\n",
    "library(rpart.plot)\n",
    "library(matrixStats)\n",
    "library(MLmetrics)"
   ]
  },
  {
   "attachments": {},
   "cell_type": "markdown",
   "metadata": {},
   "source": [
    "## QUESTION 1"
   ]
  },
  {
   "attachments": {},
   "cell_type": "markdown",
   "metadata": {},
   "source": [
    "Loading of different datasets and first overview of the data"
   ]
  },
  {
   "cell_type": "code",
   "execution_count": 217,
   "metadata": {
    "vscode": {
     "languageId": "r"
    }
   },
   "outputs": [
    {
     "data": {
      "text/html": [
       "<style>\n",
       ".list-inline {list-style: none; margin:0; padding: 0}\n",
       ".list-inline>li {display: inline-block}\n",
       ".list-inline>li:not(:last-child)::after {content: \"\\00b7\"; padding: 0 .5ex}\n",
       "</style>\n",
       "<ol class=list-inline><li>260601</li><li>39</li></ol>\n"
      ],
      "text/latex": [
       "\\begin{enumerate*}\n",
       "\\item 260601\n",
       "\\item 39\n",
       "\\end{enumerate*}\n"
      ],
      "text/markdown": [
       "1. 260601\n",
       "2. 39\n",
       "\n",
       "\n"
      ],
      "text/plain": [
       "[1] 260601     39"
      ]
     },
     "metadata": {},
     "output_type": "display_data"
    },
    {
     "data": {
      "text/html": [
       "<style>\n",
       ".list-inline {list-style: none; margin:0; padding: 0}\n",
       ".list-inline>li {display: inline-block}\n",
       ".list-inline>li:not(:last-child)::after {content: \"\\00b7\"; padding: 0 .5ex}\n",
       "</style>\n",
       "<ol class=list-inline><li>260601</li><li>2</li></ol>\n"
      ],
      "text/latex": [
       "\\begin{enumerate*}\n",
       "\\item 260601\n",
       "\\item 2\n",
       "\\end{enumerate*}\n"
      ],
      "text/markdown": [
       "1. 260601\n",
       "2. 2\n",
       "\n",
       "\n"
      ],
      "text/plain": [
       "[1] 260601      2"
      ]
     },
     "metadata": {},
     "output_type": "display_data"
    },
    {
     "data": {
      "text/html": [
       "<style>\n",
       ".list-inline {list-style: none; margin:0; padding: 0}\n",
       ".list-inline>li {display: inline-block}\n",
       ".list-inline>li:not(:last-child)::after {content: \"\\00b7\"; padding: 0 .5ex}\n",
       "</style>\n",
       "<ol class=list-inline><li>86868</li><li>39</li></ol>\n"
      ],
      "text/latex": [
       "\\begin{enumerate*}\n",
       "\\item 86868\n",
       "\\item 39\n",
       "\\end{enumerate*}\n"
      ],
      "text/markdown": [
       "1. 86868\n",
       "2. 39\n",
       "\n",
       "\n"
      ],
      "text/plain": [
       "[1] 86868    39"
      ]
     },
     "metadata": {},
     "output_type": "display_data"
    },
    {
     "data": {
      "text/html": [
       "<style>\n",
       ".list-inline {list-style: none; margin:0; padding: 0}\n",
       ".list-inline>li {display: inline-block}\n",
       ".list-inline>li:not(:last-child)::after {content: \"\\00b7\"; padding: 0 .5ex}\n",
       "</style>\n",
       "<ol class=list-inline><li>260601</li><li>40</li></ol>\n"
      ],
      "text/latex": [
       "\\begin{enumerate*}\n",
       "\\item 260601\n",
       "\\item 40\n",
       "\\end{enumerate*}\n"
      ],
      "text/markdown": [
       "1. 260601\n",
       "2. 40\n",
       "\n",
       "\n"
      ],
      "text/plain": [
       "[1] 260601     40"
      ]
     },
     "metadata": {},
     "output_type": "display_data"
    }
   ],
   "source": [
    "train <- read.csv(\"Richters_Predictor_Modeling_Earthquake_Damage_-_Train_Values.csv\")\n",
    "label <- read.csv(\"Richters_Predictor_Modeling_Earthquake_Damage_-_Train_Labels.csv\")\n",
    "test <- read.csv(\"Richters_Predictor_Modeling_Earthquake_Damage_-_Test_Values.csv\")\n",
    "trainMerged <- inner_join(train, label, by='building_id')\n",
    "dim(train)\n",
    "dim(label)\n",
    "dim(test)\n",
    "dim(trainMerged)"
   ]
  },
  {
   "attachments": {},
   "cell_type": "markdown",
   "metadata": {},
   "source": [
    "The dimensions are in accordance with the one stated on the DivenData website"
   ]
  },
  {
   "cell_type": "code",
   "execution_count": null,
   "metadata": {
    "vscode": {
     "languageId": "r"
    }
   },
   "outputs": [],
   "source": [
    "head(train)\n",
    "head(trainMerged)\n",
    "head(label)"
   ]
  },
  {
   "cell_type": "code",
   "execution_count": null,
   "metadata": {
    "vscode": {
     "languageId": "r"
    }
   },
   "outputs": [],
   "source": [
    "summary(train)\n",
    "summary(label)\n",
    "summary(test)"
   ]
  },
  {
   "attachments": {},
   "cell_type": "markdown",
   "metadata": {},
   "source": [
    "And by using the summary() function of R, we can affirm that there is no missing value."
   ]
  },
  {
   "attachments": {},
   "cell_type": "markdown",
   "metadata": {},
   "source": [
    "Here the objective is to try to reduce the impact of extreme values of some variables. For example the variable \"age\" contains some very high values (building which are almost 1000 years old), in order to avoid that it impacts the accuracy of our tasks. We will reduce them by replacing them by limit values (Winsorization)"
   ]
  },
  {
   "attachments": {},
   "cell_type": "markdown",
   "metadata": {},
   "source": [
    "Count_floors_pre_eq"
   ]
  },
  {
   "cell_type": "code",
   "execution_count": 218,
   "metadata": {
    "vscode": {
     "languageId": "r"
    }
   },
   "outputs": [],
   "source": [
    "iqr <- IQR(trainMerged$count_floors_pre_eq)\n",
    "factor <- 3\n",
    "limit <- median(trainMerged$count_floors_pre_eq) + factor * iqr\n",
    "trainMerged$count_floors_pre_eq[trainMerged$count_floors_pre_eq > limit] <- limit\n",
    "\n",
    "iqr <- IQR(test$count_floors_pre_eq)\n",
    "factor <- 3\n",
    "limit <- median(test$count_floors_pre_eq) + factor * iqr\n",
    "test$count_floors_pre_eq[test$count_floors_pre_eq > limit] <- limit"
   ]
  },
  {
   "cell_type": "code",
   "execution_count": null,
   "metadata": {
    "vscode": {
     "languageId": "r"
    }
   },
   "outputs": [],
   "source": [
    "hist(trainMerged$count_floors_pre_eq)\n",
    "table(trainMerged$count_floors_pre_eq)"
   ]
  },
  {
   "attachments": {},
   "cell_type": "markdown",
   "metadata": {},
   "source": [
    "Age"
   ]
  },
  {
   "cell_type": "code",
   "execution_count": 219,
   "metadata": {
    "vscode": {
     "languageId": "r"
    }
   },
   "outputs": [],
   "source": [
    "iqr <- IQR(trainMerged$age)\n",
    "factor <- 3\n",
    "limit <- median(trainMerged$age) + factor * iqr\n",
    "trainMerged$age[trainMerged$age > limit] <- limit\n",
    "\n",
    "iqr <- IQR(test$age)\n",
    "factor <- 3\n",
    "limit <- median(test$age) + factor * iqr\n",
    "test$age[test$age > limit] <- limit"
   ]
  },
  {
   "cell_type": "code",
   "execution_count": null,
   "metadata": {
    "vscode": {
     "languageId": "r"
    }
   },
   "outputs": [],
   "source": [
    "hist(trainMerged$age)\n",
    "table(trainMerged$age)\n"
   ]
  },
  {
   "attachments": {},
   "cell_type": "markdown",
   "metadata": {},
   "source": [
    "Area_percentage"
   ]
  },
  {
   "cell_type": "code",
   "execution_count": 220,
   "metadata": {
    "vscode": {
     "languageId": "r"
    }
   },
   "outputs": [],
   "source": [
    "iqr <- IQR(trainMerged$area_percentage)\n",
    "factor <- 3\n",
    "limit <- median(trainMerged$area_percentage) + factor * iqr\n",
    "trainMerged$area_percentage[trainMerged$area_percentage > limit] <- limit\n",
    "\n",
    "iqr <- IQR(test$area_percentage)\n",
    "factor <- 3\n",
    "limit <- median(test$area_percentage) + factor * iqr\n",
    "test$area_percentage[test$area_percentage > limit] <- limit"
   ]
  },
  {
   "cell_type": "code",
   "execution_count": null,
   "metadata": {
    "vscode": {
     "languageId": "r"
    }
   },
   "outputs": [],
   "source": [
    "hist(trainMerged$area_percentage)\n",
    "table(trainMerged$area_percentage)"
   ]
  },
  {
   "attachments": {},
   "cell_type": "markdown",
   "metadata": {},
   "source": [
    "Height_percentage"
   ]
  },
  {
   "cell_type": "code",
   "execution_count": 221,
   "metadata": {
    "vscode": {
     "languageId": "r"
    }
   },
   "outputs": [],
   "source": [
    "iqr <- IQR(trainMerged$height_percentage)\n",
    "factor <- 1.5\n",
    "limit <- median(trainMerged$height_percentage) + factor * iqr\n",
    "trainMerged$height_percentage[trainMerged$height_percentage > limit] <- limit\n",
    "\n",
    "iqr <- IQR(test$height_percentage)\n",
    "factor <- 1.5\n",
    "limit <- median(test$height_percentage) + factor * iqr\n",
    "test$height_percentage[test$height_percentage > limit] <- limit"
   ]
  },
  {
   "cell_type": "code",
   "execution_count": null,
   "metadata": {
    "vscode": {
     "languageId": "r"
    }
   },
   "outputs": [],
   "source": [
    "hist(trainMerged$height_percentage)\n",
    "table(trainMerged$height_percentage)"
   ]
  },
  {
   "attachments": {},
   "cell_type": "markdown",
   "metadata": {},
   "source": [
    "Count_families"
   ]
  },
  {
   "cell_type": "code",
   "execution_count": 222,
   "metadata": {
    "vscode": {
     "languageId": "r"
    }
   },
   "outputs": [],
   "source": [
    "iqr <- IQR(trainMerged$count_families)\n",
    "factor <- 1.5\n",
    "limit <- median(trainMerged$count_families) + factor * iqr\n",
    "trainMerged$count_families[trainMerged$count_families > limit] <- limit\n",
    "\n",
    "iqr <- IQR(test$count_families)\n",
    "factor <- 1.5\n",
    "limit <- median(test$count_families) + factor * iqr\n",
    "test$count_families[test$count_families > limit] <- limit"
   ]
  },
  {
   "cell_type": "code",
   "execution_count": null,
   "metadata": {
    "vscode": {
     "languageId": "r"
    }
   },
   "outputs": [],
   "source": [
    "hist(trainMerged$count_families)\n",
    "table(trainMerged$count_families)"
   ]
  },
  {
   "attachments": {},
   "cell_type": "markdown",
   "metadata": {},
   "source": [
    "We also set up some more graphs in order to have a first idea about the relation between our target variable (damage_grade) and our variables"
   ]
  },
  {
   "cell_type": "code",
   "execution_count": 104,
   "metadata": {
    "vscode": {
     "languageId": "r"
    }
   },
   "outputs": [],
   "source": [
    "bar_plot_stat <- function(data1, data2, name) {\n",
    "    T <- table(data1, data2)\n",
    "    Prop <- T/rowSums(T)\n",
    "    barplot(t(Prop), horiz=TRUE, col=rainbow(3), main=name, las=1, cex.names = 0.6)\n",
    "}"
   ]
  },
  {
   "cell_type": "code",
   "execution_count": null,
   "metadata": {
    "vscode": {
     "languageId": "r"
    }
   },
   "outputs": [],
   "source": [
    "for (i in colnames(trainMerged[5:39])) {\n",
    "    bar_plot_stat(trainMerged[, i], trainMerged$damage_grade, i)\n",
    "}"
   ]
  },
  {
   "attachments": {},
   "cell_type": "markdown",
   "metadata": {},
   "source": [
    "Next step we have a number of variables that are categorical, this may be bad for the steps that follow so we will use the one hot encoding to make them numeric."
   ]
  },
  {
   "attachments": {},
   "cell_type": "markdown",
   "metadata": {},
   "source": [
    "Step 1: we detect the variables to modify"
   ]
  },
  {
   "cell_type": "code",
   "execution_count": 223,
   "metadata": {
    "vscode": {
     "languageId": "r"
    }
   },
   "outputs": [
    {
     "data": {
      "text/html": [
       "<style>\n",
       ".dl-inline {width: auto; margin:0; padding: 0}\n",
       ".dl-inline>dt, .dl-inline>dd {float: none; width: auto; display: inline-block}\n",
       ".dl-inline>dt::after {content: \":\\0020\"; padding-right: .5ex}\n",
       ".dl-inline>dt:not(:first-of-type) {padding-left: .5ex}\n",
       "</style><dl class=dl-inline><dt>building_id</dt><dd>FALSE</dd><dt>geo_level_1_id</dt><dd>FALSE</dd><dt>geo_level_2_id</dt><dd>FALSE</dd><dt>geo_level_3_id</dt><dd>FALSE</dd><dt>count_floors_pre_eq</dt><dd>FALSE</dd><dt>age</dt><dd>FALSE</dd><dt>area_percentage</dt><dd>FALSE</dd><dt>height_percentage</dt><dd>FALSE</dd><dt>land_surface_condition</dt><dd>TRUE</dd><dt>foundation_type</dt><dd>TRUE</dd><dt>roof_type</dt><dd>TRUE</dd><dt>ground_floor_type</dt><dd>TRUE</dd><dt>other_floor_type</dt><dd>TRUE</dd><dt>position</dt><dd>TRUE</dd><dt>plan_configuration</dt><dd>TRUE</dd><dt>has_superstructure_adobe_mud</dt><dd>FALSE</dd><dt>has_superstructure_mud_mortar_stone</dt><dd>FALSE</dd><dt>has_superstructure_stone_flag</dt><dd>FALSE</dd><dt>has_superstructure_cement_mortar_stone</dt><dd>FALSE</dd><dt>has_superstructure_mud_mortar_brick</dt><dd>FALSE</dd><dt>has_superstructure_cement_mortar_brick</dt><dd>FALSE</dd><dt>has_superstructure_timber</dt><dd>FALSE</dd><dt>has_superstructure_bamboo</dt><dd>FALSE</dd><dt>has_superstructure_rc_non_engineered</dt><dd>FALSE</dd><dt>has_superstructure_rc_engineered</dt><dd>FALSE</dd><dt>has_superstructure_other</dt><dd>FALSE</dd><dt>legal_ownership_status</dt><dd>TRUE</dd><dt>count_families</dt><dd>FALSE</dd><dt>has_secondary_use</dt><dd>FALSE</dd><dt>has_secondary_use_agriculture</dt><dd>FALSE</dd><dt>has_secondary_use_hotel</dt><dd>FALSE</dd><dt>has_secondary_use_rental</dt><dd>FALSE</dd><dt>has_secondary_use_institution</dt><dd>FALSE</dd><dt>has_secondary_use_school</dt><dd>FALSE</dd><dt>has_secondary_use_industry</dt><dd>FALSE</dd><dt>has_secondary_use_health_post</dt><dd>FALSE</dd><dt>has_secondary_use_gov_office</dt><dd>FALSE</dd><dt>has_secondary_use_use_police</dt><dd>FALSE</dd><dt>has_secondary_use_other</dt><dd>FALSE</dd><dt>damage_grade</dt><dd>FALSE</dd></dl>\n"
      ],
      "text/latex": [
       "\\begin{description*}\n",
       "\\item[building\\textbackslash{}\\_id] FALSE\n",
       "\\item[geo\\textbackslash{}\\_level\\textbackslash{}\\_1\\textbackslash{}\\_id] FALSE\n",
       "\\item[geo\\textbackslash{}\\_level\\textbackslash{}\\_2\\textbackslash{}\\_id] FALSE\n",
       "\\item[geo\\textbackslash{}\\_level\\textbackslash{}\\_3\\textbackslash{}\\_id] FALSE\n",
       "\\item[count\\textbackslash{}\\_floors\\textbackslash{}\\_pre\\textbackslash{}\\_eq] FALSE\n",
       "\\item[age] FALSE\n",
       "\\item[area\\textbackslash{}\\_percentage] FALSE\n",
       "\\item[height\\textbackslash{}\\_percentage] FALSE\n",
       "\\item[land\\textbackslash{}\\_surface\\textbackslash{}\\_condition] TRUE\n",
       "\\item[foundation\\textbackslash{}\\_type] TRUE\n",
       "\\item[roof\\textbackslash{}\\_type] TRUE\n",
       "\\item[ground\\textbackslash{}\\_floor\\textbackslash{}\\_type] TRUE\n",
       "\\item[other\\textbackslash{}\\_floor\\textbackslash{}\\_type] TRUE\n",
       "\\item[position] TRUE\n",
       "\\item[plan\\textbackslash{}\\_configuration] TRUE\n",
       "\\item[has\\textbackslash{}\\_superstructure\\textbackslash{}\\_adobe\\textbackslash{}\\_mud] FALSE\n",
       "\\item[has\\textbackslash{}\\_superstructure\\textbackslash{}\\_mud\\textbackslash{}\\_mortar\\textbackslash{}\\_stone] FALSE\n",
       "\\item[has\\textbackslash{}\\_superstructure\\textbackslash{}\\_stone\\textbackslash{}\\_flag] FALSE\n",
       "\\item[has\\textbackslash{}\\_superstructure\\textbackslash{}\\_cement\\textbackslash{}\\_mortar\\textbackslash{}\\_stone] FALSE\n",
       "\\item[has\\textbackslash{}\\_superstructure\\textbackslash{}\\_mud\\textbackslash{}\\_mortar\\textbackslash{}\\_brick] FALSE\n",
       "\\item[has\\textbackslash{}\\_superstructure\\textbackslash{}\\_cement\\textbackslash{}\\_mortar\\textbackslash{}\\_brick] FALSE\n",
       "\\item[has\\textbackslash{}\\_superstructure\\textbackslash{}\\_timber] FALSE\n",
       "\\item[has\\textbackslash{}\\_superstructure\\textbackslash{}\\_bamboo] FALSE\n",
       "\\item[has\\textbackslash{}\\_superstructure\\textbackslash{}\\_rc\\textbackslash{}\\_non\\textbackslash{}\\_engineered] FALSE\n",
       "\\item[has\\textbackslash{}\\_superstructure\\textbackslash{}\\_rc\\textbackslash{}\\_engineered] FALSE\n",
       "\\item[has\\textbackslash{}\\_superstructure\\textbackslash{}\\_other] FALSE\n",
       "\\item[legal\\textbackslash{}\\_ownership\\textbackslash{}\\_status] TRUE\n",
       "\\item[count\\textbackslash{}\\_families] FALSE\n",
       "\\item[has\\textbackslash{}\\_secondary\\textbackslash{}\\_use] FALSE\n",
       "\\item[has\\textbackslash{}\\_secondary\\textbackslash{}\\_use\\textbackslash{}\\_agriculture] FALSE\n",
       "\\item[has\\textbackslash{}\\_secondary\\textbackslash{}\\_use\\textbackslash{}\\_hotel] FALSE\n",
       "\\item[has\\textbackslash{}\\_secondary\\textbackslash{}\\_use\\textbackslash{}\\_rental] FALSE\n",
       "\\item[has\\textbackslash{}\\_secondary\\textbackslash{}\\_use\\textbackslash{}\\_institution] FALSE\n",
       "\\item[has\\textbackslash{}\\_secondary\\textbackslash{}\\_use\\textbackslash{}\\_school] FALSE\n",
       "\\item[has\\textbackslash{}\\_secondary\\textbackslash{}\\_use\\textbackslash{}\\_industry] FALSE\n",
       "\\item[has\\textbackslash{}\\_secondary\\textbackslash{}\\_use\\textbackslash{}\\_health\\textbackslash{}\\_post] FALSE\n",
       "\\item[has\\textbackslash{}\\_secondary\\textbackslash{}\\_use\\textbackslash{}\\_gov\\textbackslash{}\\_office] FALSE\n",
       "\\item[has\\textbackslash{}\\_secondary\\textbackslash{}\\_use\\textbackslash{}\\_use\\textbackslash{}\\_police] FALSE\n",
       "\\item[has\\textbackslash{}\\_secondary\\textbackslash{}\\_use\\textbackslash{}\\_other] FALSE\n",
       "\\item[damage\\textbackslash{}\\_grade] FALSE\n",
       "\\end{description*}\n"
      ],
      "text/markdown": [
       "building_id\n",
       ":   FALSEgeo_level_1_id\n",
       ":   FALSEgeo_level_2_id\n",
       ":   FALSEgeo_level_3_id\n",
       ":   FALSEcount_floors_pre_eq\n",
       ":   FALSEage\n",
       ":   FALSEarea_percentage\n",
       ":   FALSEheight_percentage\n",
       ":   FALSEland_surface_condition\n",
       ":   TRUEfoundation_type\n",
       ":   TRUEroof_type\n",
       ":   TRUEground_floor_type\n",
       ":   TRUEother_floor_type\n",
       ":   TRUEposition\n",
       ":   TRUEplan_configuration\n",
       ":   TRUEhas_superstructure_adobe_mud\n",
       ":   FALSEhas_superstructure_mud_mortar_stone\n",
       ":   FALSEhas_superstructure_stone_flag\n",
       ":   FALSEhas_superstructure_cement_mortar_stone\n",
       ":   FALSEhas_superstructure_mud_mortar_brick\n",
       ":   FALSEhas_superstructure_cement_mortar_brick\n",
       ":   FALSEhas_superstructure_timber\n",
       ":   FALSEhas_superstructure_bamboo\n",
       ":   FALSEhas_superstructure_rc_non_engineered\n",
       ":   FALSEhas_superstructure_rc_engineered\n",
       ":   FALSEhas_superstructure_other\n",
       ":   FALSElegal_ownership_status\n",
       ":   TRUEcount_families\n",
       ":   FALSEhas_secondary_use\n",
       ":   FALSEhas_secondary_use_agriculture\n",
       ":   FALSEhas_secondary_use_hotel\n",
       ":   FALSEhas_secondary_use_rental\n",
       ":   FALSEhas_secondary_use_institution\n",
       ":   FALSEhas_secondary_use_school\n",
       ":   FALSEhas_secondary_use_industry\n",
       ":   FALSEhas_secondary_use_health_post\n",
       ":   FALSEhas_secondary_use_gov_office\n",
       ":   FALSEhas_secondary_use_use_police\n",
       ":   FALSEhas_secondary_use_other\n",
       ":   FALSEdamage_grade\n",
       ":   FALSE\n",
       "\n"
      ],
      "text/plain": [
       "                           building_id                         geo_level_1_id \n",
       "                                 FALSE                                  FALSE \n",
       "                        geo_level_2_id                         geo_level_3_id \n",
       "                                 FALSE                                  FALSE \n",
       "                   count_floors_pre_eq                                    age \n",
       "                                 FALSE                                  FALSE \n",
       "                       area_percentage                      height_percentage \n",
       "                                 FALSE                                  FALSE \n",
       "                land_surface_condition                        foundation_type \n",
       "                                  TRUE                                   TRUE \n",
       "                             roof_type                      ground_floor_type \n",
       "                                  TRUE                                   TRUE \n",
       "                      other_floor_type                               position \n",
       "                                  TRUE                                   TRUE \n",
       "                    plan_configuration           has_superstructure_adobe_mud \n",
       "                                  TRUE                                  FALSE \n",
       "   has_superstructure_mud_mortar_stone          has_superstructure_stone_flag \n",
       "                                 FALSE                                  FALSE \n",
       "has_superstructure_cement_mortar_stone    has_superstructure_mud_mortar_brick \n",
       "                                 FALSE                                  FALSE \n",
       "has_superstructure_cement_mortar_brick              has_superstructure_timber \n",
       "                                 FALSE                                  FALSE \n",
       "             has_superstructure_bamboo   has_superstructure_rc_non_engineered \n",
       "                                 FALSE                                  FALSE \n",
       "      has_superstructure_rc_engineered               has_superstructure_other \n",
       "                                 FALSE                                  FALSE \n",
       "                legal_ownership_status                         count_families \n",
       "                                  TRUE                                  FALSE \n",
       "                     has_secondary_use          has_secondary_use_agriculture \n",
       "                                 FALSE                                  FALSE \n",
       "               has_secondary_use_hotel               has_secondary_use_rental \n",
       "                                 FALSE                                  FALSE \n",
       "         has_secondary_use_institution               has_secondary_use_school \n",
       "                                 FALSE                                  FALSE \n",
       "            has_secondary_use_industry          has_secondary_use_health_post \n",
       "                                 FALSE                                  FALSE \n",
       "          has_secondary_use_gov_office           has_secondary_use_use_police \n",
       "                                 FALSE                                  FALSE \n",
       "               has_secondary_use_other                           damage_grade \n",
       "                                 FALSE                                  FALSE "
      ]
     },
     "metadata": {},
     "output_type": "display_data"
    }
   ],
   "source": [
    "character_variables_bool<-sapply(trainMerged[1,],class)==\"character\"\n",
    "character_variables_boolT<-sapply(test[1,],class)==\"character\"\n",
    "character_variables_bool"
   ]
  },
  {
   "cell_type": "code",
   "execution_count": 224,
   "metadata": {
    "vscode": {
     "languageId": "r"
    }
   },
   "outputs": [
    {
     "data": {
      "text/html": [
       "<style>\n",
       ".dl-inline {width: auto; margin:0; padding: 0}\n",
       ".dl-inline>dt, .dl-inline>dd {float: none; width: auto; display: inline-block}\n",
       ".dl-inline>dt::after {content: \":\\0020\"; padding-right: .5ex}\n",
       ".dl-inline>dt:not(:first-of-type) {padding-left: .5ex}\n",
       "</style><dl class=dl-inline><dt>land_surface_condition</dt><dd>9</dd><dt>foundation_type</dt><dd>10</dd><dt>roof_type</dt><dd>11</dd><dt>ground_floor_type</dt><dd>12</dd><dt>other_floor_type</dt><dd>13</dd><dt>position</dt><dd>14</dd><dt>plan_configuration</dt><dd>15</dd><dt>legal_ownership_status</dt><dd>27</dd></dl>\n"
      ],
      "text/latex": [
       "\\begin{description*}\n",
       "\\item[land\\textbackslash{}\\_surface\\textbackslash{}\\_condition] 9\n",
       "\\item[foundation\\textbackslash{}\\_type] 10\n",
       "\\item[roof\\textbackslash{}\\_type] 11\n",
       "\\item[ground\\textbackslash{}\\_floor\\textbackslash{}\\_type] 12\n",
       "\\item[other\\textbackslash{}\\_floor\\textbackslash{}\\_type] 13\n",
       "\\item[position] 14\n",
       "\\item[plan\\textbackslash{}\\_configuration] 15\n",
       "\\item[legal\\textbackslash{}\\_ownership\\textbackslash{}\\_status] 27\n",
       "\\end{description*}\n"
      ],
      "text/markdown": [
       "land_surface_condition\n",
       ":   9foundation_type\n",
       ":   10roof_type\n",
       ":   11ground_floor_type\n",
       ":   12other_floor_type\n",
       ":   13position\n",
       ":   14plan_configuration\n",
       ":   15legal_ownership_status\n",
       ":   27\n",
       "\n"
      ],
      "text/plain": [
       "land_surface_condition        foundation_type              roof_type \n",
       "                     9                     10                     11 \n",
       "     ground_floor_type       other_floor_type               position \n",
       "                    12                     13                     14 \n",
       "    plan_configuration legal_ownership_status \n",
       "                    15                     27 "
      ]
     },
     "metadata": {},
     "output_type": "display_data"
    },
    {
     "data": {
      "text/html": [
       "8"
      ],
      "text/latex": [
       "8"
      ],
      "text/markdown": [
       "8"
      ],
      "text/plain": [
       "[1] 8"
      ]
     },
     "metadata": {},
     "output_type": "display_data"
    }
   ],
   "source": [
    "character_variables <- which(sapply(trainMerged[1,],class)==\"character\")\n",
    "character_variablesT <- which(sapply(test[1,],class)==\"character\")\n",
    "character_variables\n",
    "length(character_variables)"
   ]
  },
  {
   "cell_type": "code",
   "execution_count": 225,
   "metadata": {
    "vscode": {
     "languageId": "r"
    }
   },
   "outputs": [
    {
     "data": {
      "text/html": [
       "<style>\n",
       ".list-inline {list-style: none; margin:0; padding: 0}\n",
       ".list-inline>li {display: inline-block}\n",
       ".list-inline>li:not(:last-child)::after {content: \"\\00b7\"; padding: 0 .5ex}\n",
       "</style>\n",
       "<ol class=list-inline><li>260601</li><li>32</li></ol>\n"
      ],
      "text/latex": [
       "\\begin{enumerate*}\n",
       "\\item 260601\n",
       "\\item 32\n",
       "\\end{enumerate*}\n"
      ],
      "text/markdown": [
       "1. 260601\n",
       "2. 32\n",
       "\n",
       "\n"
      ],
      "text/plain": [
       "[1] 260601     32"
      ]
     },
     "metadata": {},
     "output_type": "display_data"
    }
   ],
   "source": [
    "data_preprocessed<-trainMerged[,-character_variables]\n",
    "data_preprocessedT<-test[,-character_variablesT]\n",
    "dim(data_preprocessed)\n"
   ]
  },
  {
   "cell_type": "code",
   "execution_count": null,
   "metadata": {
    "vscode": {
     "languageId": "r"
    }
   },
   "outputs": [],
   "source": [
    "head(data_preprocessed)"
   ]
  },
  {
   "cell_type": "code",
   "execution_count": 226,
   "metadata": {
    "vscode": {
     "languageId": "r"
    }
   },
   "outputs": [],
   "source": [
    "data_normalise <- scale(data_preprocessed[, c(\"geo_level_1_id\", \"geo_level_2_id\", \"geo_level_3_id\" )])\n",
    "data_normaliseT <- scale(data_preprocessedT[, c(\"geo_level_1_id\", \"geo_level_2_id\", \"geo_level_3_id\" )])\n"
   ]
  },
  {
   "cell_type": "code",
   "execution_count": 227,
   "metadata": {
    "vscode": {
     "languageId": "r"
    }
   },
   "outputs": [],
   "source": [
    "data_preprocessed[, c(\"geo_level_1_id\", \"geo_level_2_id\", \"geo_level_3_id\")] <- data_normalise[, c(\"geo_level_1_id\", \"geo_level_2_id\", \"geo_level_3_id\" )]\n",
    "data_preprocessedT[, c(\"geo_level_1_id\", \"geo_level_2_id\", \"geo_level_3_id\")] <- data_normaliseT[, c(\"geo_level_1_id\", \"geo_level_2_id\", \"geo_level_3_id\" )]"
   ]
  },
  {
   "cell_type": "code",
   "execution_count": null,
   "metadata": {
    "vscode": {
     "languageId": "r"
    }
   },
   "outputs": [],
   "source": [
    "head(data_preprocessed)"
   ]
  },
  {
   "attachments": {},
   "cell_type": "markdown",
   "metadata": {},
   "source": [
    "Step 2: We apply the one hot encoding for these variables"
   ]
  },
  {
   "cell_type": "code",
   "execution_count": 228,
   "metadata": {
    "vscode": {
     "languageId": "r"
    }
   },
   "outputs": [],
   "source": [
    "cols_to_transform <- c(\"land_surface_condition\", \"foundation_type\", \"roof_type\",\n",
    "                       \"ground_floor_type\", \"other_floor_type\", \"position\", \n",
    "                       \"plan_configuration\", \"legal_ownership_status\")\n",
    "\n",
    "one_hot_trans <- dummyVars(formula = ~ ., data = trainMerged[, cols_to_transform])\n",
    "\n",
    "data_one_hot <- data.frame(predict(one_hot_trans, newdata = trainMerged))"
   ]
  },
  {
   "cell_type": "code",
   "execution_count": 229,
   "metadata": {
    "vscode": {
     "languageId": "r"
    }
   },
   "outputs": [],
   "source": [
    "cols_to_transformT <- c(\"land_surface_condition\", \"foundation_type\", \"roof_type\",\n",
    "                       \"ground_floor_type\", \"other_floor_type\", \"position\", \n",
    "                       \"plan_configuration\", \"legal_ownership_status\")\n",
    "\n",
    "one_hot_transT <- dummyVars(formula = ~ ., data = test[, cols_to_transformT])\n",
    "\n",
    "data_one_hotT <- data.frame(predict(one_hot_transT, newdata = test))"
   ]
  },
  {
   "attachments": {},
   "cell_type": "markdown",
   "metadata": {},
   "source": [
    "Step 3 : We merge our modified varibale with our dataset in order to obtain a table with only numeric values"
   ]
  },
  {
   "cell_type": "code",
   "execution_count": 230,
   "metadata": {
    "vscode": {
     "languageId": "r"
    }
   },
   "outputs": [
    {
     "data": {
      "text/html": [
       "<table class=\"dataframe\">\n",
       "<caption>A data.frame: 6 x 70</caption>\n",
       "<thead>\n",
       "\t<tr><th></th><th scope=col>building_id</th><th scope=col>geo_level_1_id</th><th scope=col>geo_level_2_id</th><th scope=col>geo_level_3_id</th><th scope=col>count_floors_pre_eq</th><th scope=col>age</th><th scope=col>area_percentage</th><th scope=col>height_percentage</th><th scope=col>has_superstructure_adobe_mud</th><th scope=col>has_superstructure_mud_mortar_stone</th><th scope=col>...</th><th scope=col>plan_configurationm</th><th scope=col>plan_configurationn</th><th scope=col>plan_configurationo</th><th scope=col>plan_configurationq</th><th scope=col>plan_configurations</th><th scope=col>plan_configurationu</th><th scope=col>legal_ownership_statusa</th><th scope=col>legal_ownership_statusr</th><th scope=col>legal_ownership_statusv</th><th scope=col>legal_ownership_statusw</th></tr>\n",
       "\t<tr><th></th><th scope=col>&lt;int&gt;</th><th scope=col>&lt;dbl&gt;</th><th scope=col>&lt;dbl&gt;</th><th scope=col>&lt;dbl&gt;</th><th scope=col>&lt;dbl&gt;</th><th scope=col>&lt;dbl&gt;</th><th scope=col>&lt;dbl&gt;</th><th scope=col>&lt;dbl&gt;</th><th scope=col>&lt;int&gt;</th><th scope=col>&lt;int&gt;</th><th scope=col>...</th><th scope=col>&lt;dbl&gt;</th><th scope=col>&lt;dbl&gt;</th><th scope=col>&lt;dbl&gt;</th><th scope=col>&lt;dbl&gt;</th><th scope=col>&lt;dbl&gt;</th><th scope=col>&lt;dbl&gt;</th><th scope=col>&lt;dbl&gt;</th><th scope=col>&lt;dbl&gt;</th><th scope=col>&lt;dbl&gt;</th><th scope=col>&lt;dbl&gt;</th></tr>\n",
       "</thead>\n",
       "<tbody>\n",
       "\t<tr><th scope=row>1</th><td>802906</td><td>-0.9834118</td><td>-0.5187039</td><td> 1.6290515</td><td>2</td><td>30</td><td>6</td><td>5</td><td>1</td><td>1</td><td>...</td><td>0</td><td>0</td><td>0</td><td>0</td><td>0</td><td>0</td><td>0</td><td>0</td><td>1</td><td>0</td></tr>\n",
       "\t<tr><th scope=row>2</th><td> 28830</td><td>-0.7344579</td><td> 0.4819970</td><td>-0.9450156</td><td>2</td><td>10</td><td>8</td><td>7</td><td>0</td><td>1</td><td>...</td><td>0</td><td>0</td><td>0</td><td>0</td><td>0</td><td>0</td><td>0</td><td>0</td><td>1</td><td>0</td></tr>\n",
       "\t<tr><th scope=row>3</th><td> 94947</td><td> 0.8837423</td><td>-0.8191565</td><td> 0.7446102</td><td>2</td><td>10</td><td>5</td><td>5</td><td>0</td><td>1</td><td>...</td><td>0</td><td>0</td><td>0</td><td>0</td><td>0</td><td>0</td><td>0</td><td>0</td><td>1</td><td>0</td></tr>\n",
       "\t<tr><th scope=row>4</th><td>590882</td><td> 1.0082192</td><td>-0.6858913</td><td> 1.2165864</td><td>2</td><td>10</td><td>6</td><td>5</td><td>0</td><td>1</td><td>...</td><td>0</td><td>0</td><td>0</td><td>0</td><td>0</td><td>0</td><td>0</td><td>0</td><td>1</td><td>0</td></tr>\n",
       "\t<tr><th scope=row>5</th><td>201944</td><td>-0.3610271</td><td>-1.3812936</td><td>-1.3081165</td><td>2</td><td>30</td><td>8</td><td>8</td><td>1</td><td>0</td><td>...</td><td>0</td><td>0</td><td>0</td><td>0</td><td>0</td><td>0</td><td>0</td><td>0</td><td>1</td><td>0</td></tr>\n",
       "\t<tr><th scope=row>6</th><td>333020</td><td>-0.7344579</td><td>-0.3466706</td><td>-0.0463135</td><td>2</td><td>10</td><td>9</td><td>5</td><td>0</td><td>1</td><td>...</td><td>0</td><td>0</td><td>0</td><td>0</td><td>0</td><td>0</td><td>0</td><td>0</td><td>1</td><td>0</td></tr>\n",
       "</tbody>\n",
       "</table>\n"
      ],
      "text/latex": [
       "A data.frame: 6 x 70\n",
       "\\begin{tabular}{r|lllllllllllllllllllll}\n",
       "  & building\\_id & geo\\_level\\_1\\_id & geo\\_level\\_2\\_id & geo\\_level\\_3\\_id & count\\_floors\\_pre\\_eq & age & area\\_percentage & height\\_percentage & has\\_superstructure\\_adobe\\_mud & has\\_superstructure\\_mud\\_mortar\\_stone & ... & plan\\_configurationm & plan\\_configurationn & plan\\_configurationo & plan\\_configurationq & plan\\_configurations & plan\\_configurationu & legal\\_ownership\\_statusa & legal\\_ownership\\_statusr & legal\\_ownership\\_statusv & legal\\_ownership\\_statusw\\\\\n",
       "  & <int> & <dbl> & <dbl> & <dbl> & <dbl> & <dbl> & <dbl> & <dbl> & <int> & <int> & ... & <dbl> & <dbl> & <dbl> & <dbl> & <dbl> & <dbl> & <dbl> & <dbl> & <dbl> & <dbl>\\\\\n",
       "\\hline\n",
       "\t1 & 802906 & -0.9834118 & -0.5187039 &  1.6290515 & 2 & 30 & 6 & 5 & 1 & 1 & ... & 0 & 0 & 0 & 0 & 0 & 0 & 0 & 0 & 1 & 0\\\\\n",
       "\t2 &  28830 & -0.7344579 &  0.4819970 & -0.9450156 & 2 & 10 & 8 & 7 & 0 & 1 & ... & 0 & 0 & 0 & 0 & 0 & 0 & 0 & 0 & 1 & 0\\\\\n",
       "\t3 &  94947 &  0.8837423 & -0.8191565 &  0.7446102 & 2 & 10 & 5 & 5 & 0 & 1 & ... & 0 & 0 & 0 & 0 & 0 & 0 & 0 & 0 & 1 & 0\\\\\n",
       "\t4 & 590882 &  1.0082192 & -0.6858913 &  1.2165864 & 2 & 10 & 6 & 5 & 0 & 1 & ... & 0 & 0 & 0 & 0 & 0 & 0 & 0 & 0 & 1 & 0\\\\\n",
       "\t5 & 201944 & -0.3610271 & -1.3812936 & -1.3081165 & 2 & 30 & 8 & 8 & 1 & 0 & ... & 0 & 0 & 0 & 0 & 0 & 0 & 0 & 0 & 1 & 0\\\\\n",
       "\t6 & 333020 & -0.7344579 & -0.3466706 & -0.0463135 & 2 & 10 & 9 & 5 & 0 & 1 & ... & 0 & 0 & 0 & 0 & 0 & 0 & 0 & 0 & 1 & 0\\\\\n",
       "\\end{tabular}\n"
      ],
      "text/markdown": [
       "\n",
       "A data.frame: 6 x 70\n",
       "\n",
       "| <!--/--> | building_id &lt;int&gt; | geo_level_1_id &lt;dbl&gt; | geo_level_2_id &lt;dbl&gt; | geo_level_3_id &lt;dbl&gt; | count_floors_pre_eq &lt;dbl&gt; | age &lt;dbl&gt; | area_percentage &lt;dbl&gt; | height_percentage &lt;dbl&gt; | has_superstructure_adobe_mud &lt;int&gt; | has_superstructure_mud_mortar_stone &lt;int&gt; | ... ... | plan_configurationm &lt;dbl&gt; | plan_configurationn &lt;dbl&gt; | plan_configurationo &lt;dbl&gt; | plan_configurationq &lt;dbl&gt; | plan_configurations &lt;dbl&gt; | plan_configurationu &lt;dbl&gt; | legal_ownership_statusa &lt;dbl&gt; | legal_ownership_statusr &lt;dbl&gt; | legal_ownership_statusv &lt;dbl&gt; | legal_ownership_statusw &lt;dbl&gt; |\n",
       "|---|---|---|---|---|---|---|---|---|---|---|---|---|---|---|---|---|---|---|---|---|---|\n",
       "| 1 | 802906 | -0.9834118 | -0.5187039 |  1.6290515 | 2 | 30 | 6 | 5 | 1 | 1 | ... | 0 | 0 | 0 | 0 | 0 | 0 | 0 | 0 | 1 | 0 |\n",
       "| 2 |  28830 | -0.7344579 |  0.4819970 | -0.9450156 | 2 | 10 | 8 | 7 | 0 | 1 | ... | 0 | 0 | 0 | 0 | 0 | 0 | 0 | 0 | 1 | 0 |\n",
       "| 3 |  94947 |  0.8837423 | -0.8191565 |  0.7446102 | 2 | 10 | 5 | 5 | 0 | 1 | ... | 0 | 0 | 0 | 0 | 0 | 0 | 0 | 0 | 1 | 0 |\n",
       "| 4 | 590882 |  1.0082192 | -0.6858913 |  1.2165864 | 2 | 10 | 6 | 5 | 0 | 1 | ... | 0 | 0 | 0 | 0 | 0 | 0 | 0 | 0 | 1 | 0 |\n",
       "| 5 | 201944 | -0.3610271 | -1.3812936 | -1.3081165 | 2 | 30 | 8 | 8 | 1 | 0 | ... | 0 | 0 | 0 | 0 | 0 | 0 | 0 | 0 | 1 | 0 |\n",
       "| 6 | 333020 | -0.7344579 | -0.3466706 | -0.0463135 | 2 | 10 | 9 | 5 | 0 | 1 | ... | 0 | 0 | 0 | 0 | 0 | 0 | 0 | 0 | 1 | 0 |\n",
       "\n"
      ],
      "text/plain": [
       "  building_id geo_level_1_id geo_level_2_id geo_level_3_id count_floors_pre_eq\n",
       "1 802906      -0.9834118     -0.5187039      1.6290515     2                  \n",
       "2  28830      -0.7344579      0.4819970     -0.9450156     2                  \n",
       "3  94947       0.8837423     -0.8191565      0.7446102     2                  \n",
       "4 590882       1.0082192     -0.6858913      1.2165864     2                  \n",
       "5 201944      -0.3610271     -1.3812936     -1.3081165     2                  \n",
       "6 333020      -0.7344579     -0.3466706     -0.0463135     2                  \n",
       "  age area_percentage height_percentage has_superstructure_adobe_mud\n",
       "1 30  6               5                 1                           \n",
       "2 10  8               7                 0                           \n",
       "3 10  5               5                 0                           \n",
       "4 10  6               5                 0                           \n",
       "5 30  8               8                 1                           \n",
       "6 10  9               5                 0                           \n",
       "  has_superstructure_mud_mortar_stone ... plan_configurationm\n",
       "1 1                                   ... 0                  \n",
       "2 1                                   ... 0                  \n",
       "3 1                                   ... 0                  \n",
       "4 1                                   ... 0                  \n",
       "5 0                                   ... 0                  \n",
       "6 1                                   ... 0                  \n",
       "  plan_configurationn plan_configurationo plan_configurationq\n",
       "1 0                   0                   0                  \n",
       "2 0                   0                   0                  \n",
       "3 0                   0                   0                  \n",
       "4 0                   0                   0                  \n",
       "5 0                   0                   0                  \n",
       "6 0                   0                   0                  \n",
       "  plan_configurations plan_configurationu legal_ownership_statusa\n",
       "1 0                   0                   0                      \n",
       "2 0                   0                   0                      \n",
       "3 0                   0                   0                      \n",
       "4 0                   0                   0                      \n",
       "5 0                   0                   0                      \n",
       "6 0                   0                   0                      \n",
       "  legal_ownership_statusr legal_ownership_statusv legal_ownership_statusw\n",
       "1 0                       1                       0                      \n",
       "2 0                       1                       0                      \n",
       "3 0                       1                       0                      \n",
       "4 0                       1                       0                      \n",
       "5 0                       1                       0                      \n",
       "6 0                       1                       0                      "
      ]
     },
     "metadata": {},
     "output_type": "display_data"
    }
   ],
   "source": [
    "trainCleaned <- cbind(data_preprocessed, data_one_hot)\n",
    "trainCleanedT <- cbind(data_preprocessedT, data_one_hotT)\n",
    "head(trainCleaned)\n"
   ]
  },
  {
   "attachments": {},
   "cell_type": "markdown",
   "metadata": {},
   "source": [
    "Moreover, we remove the building_id varibles which will not bring anything during the following steps."
   ]
  },
  {
   "cell_type": "code",
   "execution_count": 231,
   "metadata": {
    "vscode": {
     "languageId": "r"
    }
   },
   "outputs": [
    {
     "data": {
      "text/html": [
       "<table class=\"dataframe\">\n",
       "<caption>A data.frame: 6 x 69</caption>\n",
       "<thead>\n",
       "\t<tr><th></th><th scope=col>geo_level_1_id</th><th scope=col>geo_level_2_id</th><th scope=col>geo_level_3_id</th><th scope=col>count_floors_pre_eq</th><th scope=col>age</th><th scope=col>area_percentage</th><th scope=col>height_percentage</th><th scope=col>has_superstructure_adobe_mud</th><th scope=col>has_superstructure_mud_mortar_stone</th><th scope=col>has_superstructure_stone_flag</th><th scope=col>...</th><th scope=col>plan_configurationn</th><th scope=col>plan_configurationo</th><th scope=col>plan_configurationq</th><th scope=col>plan_configurations</th><th scope=col>plan_configurationu</th><th scope=col>legal_ownership_statusa</th><th scope=col>legal_ownership_statusr</th><th scope=col>legal_ownership_statusv</th><th scope=col>legal_ownership_statusw</th><th scope=col>damage_grade</th></tr>\n",
       "\t<tr><th></th><th scope=col>&lt;dbl&gt;</th><th scope=col>&lt;dbl&gt;</th><th scope=col>&lt;dbl&gt;</th><th scope=col>&lt;dbl&gt;</th><th scope=col>&lt;dbl&gt;</th><th scope=col>&lt;dbl&gt;</th><th scope=col>&lt;dbl&gt;</th><th scope=col>&lt;int&gt;</th><th scope=col>&lt;int&gt;</th><th scope=col>&lt;int&gt;</th><th scope=col>...</th><th scope=col>&lt;dbl&gt;</th><th scope=col>&lt;dbl&gt;</th><th scope=col>&lt;dbl&gt;</th><th scope=col>&lt;dbl&gt;</th><th scope=col>&lt;dbl&gt;</th><th scope=col>&lt;dbl&gt;</th><th scope=col>&lt;dbl&gt;</th><th scope=col>&lt;dbl&gt;</th><th scope=col>&lt;dbl&gt;</th><th scope=col>&lt;int&gt;</th></tr>\n",
       "</thead>\n",
       "<tbody>\n",
       "\t<tr><th scope=row>1</th><td>-0.9834118</td><td>-0.5187039</td><td> 1.6290515</td><td>2</td><td>30</td><td>6</td><td>5</td><td>1</td><td>1</td><td>0</td><td>...</td><td>0</td><td>0</td><td>0</td><td>0</td><td>0</td><td>0</td><td>0</td><td>1</td><td>0</td><td>3</td></tr>\n",
       "\t<tr><th scope=row>2</th><td>-0.7344579</td><td> 0.4819970</td><td>-0.9450156</td><td>2</td><td>10</td><td>8</td><td>7</td><td>0</td><td>1</td><td>0</td><td>...</td><td>0</td><td>0</td><td>0</td><td>0</td><td>0</td><td>0</td><td>0</td><td>1</td><td>0</td><td>2</td></tr>\n",
       "\t<tr><th scope=row>3</th><td> 0.8837423</td><td>-0.8191565</td><td> 0.7446102</td><td>2</td><td>10</td><td>5</td><td>5</td><td>0</td><td>1</td><td>0</td><td>...</td><td>0</td><td>0</td><td>0</td><td>0</td><td>0</td><td>0</td><td>0</td><td>1</td><td>0</td><td>3</td></tr>\n",
       "\t<tr><th scope=row>4</th><td> 1.0082192</td><td>-0.6858913</td><td> 1.2165864</td><td>2</td><td>10</td><td>6</td><td>5</td><td>0</td><td>1</td><td>0</td><td>...</td><td>0</td><td>0</td><td>0</td><td>0</td><td>0</td><td>0</td><td>0</td><td>1</td><td>0</td><td>2</td></tr>\n",
       "\t<tr><th scope=row>5</th><td>-0.3610271</td><td>-1.3812936</td><td>-1.3081165</td><td>2</td><td>30</td><td>8</td><td>8</td><td>1</td><td>0</td><td>0</td><td>...</td><td>0</td><td>0</td><td>0</td><td>0</td><td>0</td><td>0</td><td>0</td><td>1</td><td>0</td><td>3</td></tr>\n",
       "\t<tr><th scope=row>6</th><td>-0.7344579</td><td>-0.3466706</td><td>-0.0463135</td><td>2</td><td>10</td><td>9</td><td>5</td><td>0</td><td>1</td><td>0</td><td>...</td><td>0</td><td>0</td><td>0</td><td>0</td><td>0</td><td>0</td><td>0</td><td>1</td><td>0</td><td>2</td></tr>\n",
       "</tbody>\n",
       "</table>\n"
      ],
      "text/latex": [
       "A data.frame: 6 x 69\n",
       "\\begin{tabular}{r|lllllllllllllllllllll}\n",
       "  & geo\\_level\\_1\\_id & geo\\_level\\_2\\_id & geo\\_level\\_3\\_id & count\\_floors\\_pre\\_eq & age & area\\_percentage & height\\_percentage & has\\_superstructure\\_adobe\\_mud & has\\_superstructure\\_mud\\_mortar\\_stone & has\\_superstructure\\_stone\\_flag & ... & plan\\_configurationn & plan\\_configurationo & plan\\_configurationq & plan\\_configurations & plan\\_configurationu & legal\\_ownership\\_statusa & legal\\_ownership\\_statusr & legal\\_ownership\\_statusv & legal\\_ownership\\_statusw & damage\\_grade\\\\\n",
       "  & <dbl> & <dbl> & <dbl> & <dbl> & <dbl> & <dbl> & <dbl> & <int> & <int> & <int> & ... & <dbl> & <dbl> & <dbl> & <dbl> & <dbl> & <dbl> & <dbl> & <dbl> & <dbl> & <int>\\\\\n",
       "\\hline\n",
       "\t1 & -0.9834118 & -0.5187039 &  1.6290515 & 2 & 30 & 6 & 5 & 1 & 1 & 0 & ... & 0 & 0 & 0 & 0 & 0 & 0 & 0 & 1 & 0 & 3\\\\\n",
       "\t2 & -0.7344579 &  0.4819970 & -0.9450156 & 2 & 10 & 8 & 7 & 0 & 1 & 0 & ... & 0 & 0 & 0 & 0 & 0 & 0 & 0 & 1 & 0 & 2\\\\\n",
       "\t3 &  0.8837423 & -0.8191565 &  0.7446102 & 2 & 10 & 5 & 5 & 0 & 1 & 0 & ... & 0 & 0 & 0 & 0 & 0 & 0 & 0 & 1 & 0 & 3\\\\\n",
       "\t4 &  1.0082192 & -0.6858913 &  1.2165864 & 2 & 10 & 6 & 5 & 0 & 1 & 0 & ... & 0 & 0 & 0 & 0 & 0 & 0 & 0 & 1 & 0 & 2\\\\\n",
       "\t5 & -0.3610271 & -1.3812936 & -1.3081165 & 2 & 30 & 8 & 8 & 1 & 0 & 0 & ... & 0 & 0 & 0 & 0 & 0 & 0 & 0 & 1 & 0 & 3\\\\\n",
       "\t6 & -0.7344579 & -0.3466706 & -0.0463135 & 2 & 10 & 9 & 5 & 0 & 1 & 0 & ... & 0 & 0 & 0 & 0 & 0 & 0 & 0 & 1 & 0 & 2\\\\\n",
       "\\end{tabular}\n"
      ],
      "text/markdown": [
       "\n",
       "A data.frame: 6 x 69\n",
       "\n",
       "| <!--/--> | geo_level_1_id &lt;dbl&gt; | geo_level_2_id &lt;dbl&gt; | geo_level_3_id &lt;dbl&gt; | count_floors_pre_eq &lt;dbl&gt; | age &lt;dbl&gt; | area_percentage &lt;dbl&gt; | height_percentage &lt;dbl&gt; | has_superstructure_adobe_mud &lt;int&gt; | has_superstructure_mud_mortar_stone &lt;int&gt; | has_superstructure_stone_flag &lt;int&gt; | ... ... | plan_configurationn &lt;dbl&gt; | plan_configurationo &lt;dbl&gt; | plan_configurationq &lt;dbl&gt; | plan_configurations &lt;dbl&gt; | plan_configurationu &lt;dbl&gt; | legal_ownership_statusa &lt;dbl&gt; | legal_ownership_statusr &lt;dbl&gt; | legal_ownership_statusv &lt;dbl&gt; | legal_ownership_statusw &lt;dbl&gt; | damage_grade &lt;int&gt; |\n",
       "|---|---|---|---|---|---|---|---|---|---|---|---|---|---|---|---|---|---|---|---|---|---|\n",
       "| 1 | -0.9834118 | -0.5187039 |  1.6290515 | 2 | 30 | 6 | 5 | 1 | 1 | 0 | ... | 0 | 0 | 0 | 0 | 0 | 0 | 0 | 1 | 0 | 3 |\n",
       "| 2 | -0.7344579 |  0.4819970 | -0.9450156 | 2 | 10 | 8 | 7 | 0 | 1 | 0 | ... | 0 | 0 | 0 | 0 | 0 | 0 | 0 | 1 | 0 | 2 |\n",
       "| 3 |  0.8837423 | -0.8191565 |  0.7446102 | 2 | 10 | 5 | 5 | 0 | 1 | 0 | ... | 0 | 0 | 0 | 0 | 0 | 0 | 0 | 1 | 0 | 3 |\n",
       "| 4 |  1.0082192 | -0.6858913 |  1.2165864 | 2 | 10 | 6 | 5 | 0 | 1 | 0 | ... | 0 | 0 | 0 | 0 | 0 | 0 | 0 | 1 | 0 | 2 |\n",
       "| 5 | -0.3610271 | -1.3812936 | -1.3081165 | 2 | 30 | 8 | 8 | 1 | 0 | 0 | ... | 0 | 0 | 0 | 0 | 0 | 0 | 0 | 1 | 0 | 3 |\n",
       "| 6 | -0.7344579 | -0.3466706 | -0.0463135 | 2 | 10 | 9 | 5 | 0 | 1 | 0 | ... | 0 | 0 | 0 | 0 | 0 | 0 | 0 | 1 | 0 | 2 |\n",
       "\n"
      ],
      "text/plain": [
       "  geo_level_1_id geo_level_2_id geo_level_3_id count_floors_pre_eq age\n",
       "1 -0.9834118     -0.5187039      1.6290515     2                   30 \n",
       "2 -0.7344579      0.4819970     -0.9450156     2                   10 \n",
       "3  0.8837423     -0.8191565      0.7446102     2                   10 \n",
       "4  1.0082192     -0.6858913      1.2165864     2                   10 \n",
       "5 -0.3610271     -1.3812936     -1.3081165     2                   30 \n",
       "6 -0.7344579     -0.3466706     -0.0463135     2                   10 \n",
       "  area_percentage height_percentage has_superstructure_adobe_mud\n",
       "1 6               5                 1                           \n",
       "2 8               7                 0                           \n",
       "3 5               5                 0                           \n",
       "4 6               5                 0                           \n",
       "5 8               8                 1                           \n",
       "6 9               5                 0                           \n",
       "  has_superstructure_mud_mortar_stone has_superstructure_stone_flag ...\n",
       "1 1                                   0                             ...\n",
       "2 1                                   0                             ...\n",
       "3 1                                   0                             ...\n",
       "4 1                                   0                             ...\n",
       "5 0                                   0                             ...\n",
       "6 1                                   0                             ...\n",
       "  plan_configurationn plan_configurationo plan_configurationq\n",
       "1 0                   0                   0                  \n",
       "2 0                   0                   0                  \n",
       "3 0                   0                   0                  \n",
       "4 0                   0                   0                  \n",
       "5 0                   0                   0                  \n",
       "6 0                   0                   0                  \n",
       "  plan_configurations plan_configurationu legal_ownership_statusa\n",
       "1 0                   0                   0                      \n",
       "2 0                   0                   0                      \n",
       "3 0                   0                   0                      \n",
       "4 0                   0                   0                      \n",
       "5 0                   0                   0                      \n",
       "6 0                   0                   0                      \n",
       "  legal_ownership_statusr legal_ownership_statusv legal_ownership_statusw\n",
       "1 0                       1                       0                      \n",
       "2 0                       1                       0                      \n",
       "3 0                       1                       0                      \n",
       "4 0                       1                       0                      \n",
       "5 0                       1                       0                      \n",
       "6 0                       1                       0                      \n",
       "  damage_grade\n",
       "1 3           \n",
       "2 2           \n",
       "3 3           \n",
       "4 2           \n",
       "5 3           \n",
       "6 2           "
      ]
     },
     "metadata": {},
     "output_type": "display_data"
    }
   ],
   "source": [
    "trainCleaned <- trainCleaned %>% relocate(damage_grade, .after = legal_ownership_statusw)\n",
    "trainCleaned <- select(trainCleaned, -c(building_id))\n",
    "trainCleanedT <- select(trainCleanedT, -c(building_id))\n",
    "head(trainCleaned)"
   ]
  },
  {
   "attachments": {},
   "cell_type": "markdown",
   "metadata": {},
   "source": [
    "In order to have a first vision of the correlation between the variables we set up a correlation matrix."
   ]
  },
  {
   "cell_type": "code",
   "execution_count": null,
   "metadata": {
    "vscode": {
     "languageId": "r"
    }
   },
   "outputs": [],
   "source": [
    "numeric_data = c()\n",
    "for (i in 1:ncol(trainCleaned)) {\n",
    "    if (class(trainCleaned[, i]) != \"character\") {\n",
    "        numeric_data <- append(numeric_data, i)\n",
    "    }\n",
    "}\n",
    "cormat <- abs(cor(trainCleaned[, numeric_data]))\n",
    "cormat"
   ]
  },
  {
   "attachments": {},
   "cell_type": "markdown",
   "metadata": {},
   "source": [
    "Graphical view of our correlation matrix "
   ]
  },
  {
   "cell_type": "code",
   "execution_count": null,
   "metadata": {
    "vscode": {
     "languageId": "r"
    }
   },
   "outputs": [],
   "source": [
    "cormat <- abs(cor(trainCleaned))\n",
    "corrplot(cormat, tl.cex = 0.1, method = \"color\")\n"
   ]
  },
  {
   "attachments": {},
   "cell_type": "markdown",
   "metadata": {},
   "source": [
    "The large number of variables makes the matrix and the graph not very readable (even if the graph gives us some points of strong correlation)\n",
    "We will now, from a preprocessing perspective, remove all variables for which the correlation factor is > 0.5 and then we will keep the best feature between the two.\n",
    "For this we calculate the best feature is the feature for which the correlation with our target feature (damage_grade) is the highest.\n",
    "\n",
    "Then we will remove them from our dataset. One of the other reasons is that by leaving all the variables present in our dataset, the too big number will systematically lead to an error because of the too big load of the operation (limit of technique of my computer I think)"
   ]
  },
  {
   "cell_type": "code",
   "execution_count": 239,
   "metadata": {
    "vscode": {
     "languageId": "r"
    }
   },
   "outputs": [
    {
     "data": {
      "text/html": [
       "<style>\n",
       ".list-inline {list-style: none; margin:0; padding: 0}\n",
       ".list-inline>li {display: inline-block}\n",
       ".list-inline>li:not(:last-child)::after {content: \"\\00b7\"; padding: 0 .5ex}\n",
       "</style>\n",
       "<ol class=list-inline><li>7</li><li>47</li><li>21</li><li>31</li><li>35</li><li>49</li><li>40</li><li>41</li><li>42</li><li>45</li><li>53</li><li>62</li><li>67</li></ol>\n"
      ],
      "text/latex": [
       "\\begin{enumerate*}\n",
       "\\item 7\n",
       "\\item 47\n",
       "\\item 21\n",
       "\\item 31\n",
       "\\item 35\n",
       "\\item 49\n",
       "\\item 40\n",
       "\\item 41\n",
       "\\item 42\n",
       "\\item 45\n",
       "\\item 53\n",
       "\\item 62\n",
       "\\item 67\n",
       "\\end{enumerate*}\n"
      ],
      "text/markdown": [
       "1. 7\n",
       "2. 47\n",
       "3. 21\n",
       "4. 31\n",
       "5. 35\n",
       "6. 49\n",
       "7. 40\n",
       "8. 41\n",
       "9. 42\n",
       "10. 45\n",
       "11. 53\n",
       "12. 62\n",
       "13. 67\n",
       "\n",
       "\n"
      ],
      "text/plain": [
       " [1]  7 47 21 31 35 49 40 41 42 45 53 62 67"
      ]
     },
     "metadata": {},
     "output_type": "display_data"
    }
   ],
   "source": [
    "to_delete_DG = c()\n",
    "for (i in 1:(nrow(cormat)-1)) {\n",
    "    for (j in i:(nrow(cormat)-1)) {\n",
    "        if (cormat[i,j] > 0.6 &  i!=j) {\n",
    "            if (abs(cormat[i,69]) < abs(cormat[j,69])) {\n",
    "                to_delete_DG <- c(to_delete_DG, i)\n",
    "            } else {\n",
    "                to_delete_DG <- c(to_delete_DG, j)\n",
    "            }\n",
    "        }\n",
    "    }\n",
    "}\n",
    "to_delete_DG <- to_delete_DG[!duplicated(to_delete_DG)]\n",
    "to_delete_DG\n"
   ]
  },
  {
   "cell_type": "code",
   "execution_count": 240,
   "metadata": {
    "vscode": {
     "languageId": "r"
    }
   },
   "outputs": [
    {
     "data": {
      "text/html": [
       "<table class=\"dataframe\">\n",
       "<caption>A data.frame: 6 x 56</caption>\n",
       "<thead>\n",
       "\t<tr><th></th><th scope=col>geo_level_1_id</th><th scope=col>geo_level_2_id</th><th scope=col>geo_level_3_id</th><th scope=col>count_floors_pre_eq</th><th scope=col>age</th><th scope=col>area_percentage</th><th scope=col>has_superstructure_adobe_mud</th><th scope=col>has_superstructure_mud_mortar_stone</th><th scope=col>has_superstructure_stone_flag</th><th scope=col>has_superstructure_cement_mortar_stone</th><th scope=col>...</th><th scope=col>plan_configurationf</th><th scope=col>plan_configurationm</th><th scope=col>plan_configurationn</th><th scope=col>plan_configurationo</th><th scope=col>plan_configurations</th><th scope=col>plan_configurationu</th><th scope=col>legal_ownership_statusa</th><th scope=col>legal_ownership_statusr</th><th scope=col>legal_ownership_statusw</th><th scope=col>damage_grade</th></tr>\n",
       "\t<tr><th></th><th scope=col>&lt;dbl&gt;</th><th scope=col>&lt;dbl&gt;</th><th scope=col>&lt;dbl&gt;</th><th scope=col>&lt;dbl&gt;</th><th scope=col>&lt;dbl&gt;</th><th scope=col>&lt;dbl&gt;</th><th scope=col>&lt;int&gt;</th><th scope=col>&lt;int&gt;</th><th scope=col>&lt;int&gt;</th><th scope=col>&lt;int&gt;</th><th scope=col>...</th><th scope=col>&lt;dbl&gt;</th><th scope=col>&lt;dbl&gt;</th><th scope=col>&lt;dbl&gt;</th><th scope=col>&lt;dbl&gt;</th><th scope=col>&lt;dbl&gt;</th><th scope=col>&lt;dbl&gt;</th><th scope=col>&lt;dbl&gt;</th><th scope=col>&lt;dbl&gt;</th><th scope=col>&lt;dbl&gt;</th><th scope=col>&lt;int&gt;</th></tr>\n",
       "</thead>\n",
       "<tbody>\n",
       "\t<tr><th scope=row>1</th><td>-0.9834118</td><td>-0.5187039</td><td> 1.6290515</td><td>2</td><td>30</td><td>6</td><td>1</td><td>1</td><td>0</td><td>0</td><td>...</td><td>0</td><td>0</td><td>0</td><td>0</td><td>0</td><td>0</td><td>0</td><td>0</td><td>0</td><td>3</td></tr>\n",
       "\t<tr><th scope=row>2</th><td>-0.7344579</td><td> 0.4819970</td><td>-0.9450156</td><td>2</td><td>10</td><td>8</td><td>0</td><td>1</td><td>0</td><td>0</td><td>...</td><td>0</td><td>0</td><td>0</td><td>0</td><td>0</td><td>0</td><td>0</td><td>0</td><td>0</td><td>2</td></tr>\n",
       "\t<tr><th scope=row>3</th><td> 0.8837423</td><td>-0.8191565</td><td> 0.7446102</td><td>2</td><td>10</td><td>5</td><td>0</td><td>1</td><td>0</td><td>0</td><td>...</td><td>0</td><td>0</td><td>0</td><td>0</td><td>0</td><td>0</td><td>0</td><td>0</td><td>0</td><td>3</td></tr>\n",
       "\t<tr><th scope=row>4</th><td> 1.0082192</td><td>-0.6858913</td><td> 1.2165864</td><td>2</td><td>10</td><td>6</td><td>0</td><td>1</td><td>0</td><td>0</td><td>...</td><td>0</td><td>0</td><td>0</td><td>0</td><td>0</td><td>0</td><td>0</td><td>0</td><td>0</td><td>2</td></tr>\n",
       "\t<tr><th scope=row>5</th><td>-0.3610271</td><td>-1.3812936</td><td>-1.3081165</td><td>2</td><td>30</td><td>8</td><td>1</td><td>0</td><td>0</td><td>0</td><td>...</td><td>0</td><td>0</td><td>0</td><td>0</td><td>0</td><td>0</td><td>0</td><td>0</td><td>0</td><td>3</td></tr>\n",
       "\t<tr><th scope=row>6</th><td>-0.7344579</td><td>-0.3466706</td><td>-0.0463135</td><td>2</td><td>10</td><td>9</td><td>0</td><td>1</td><td>0</td><td>0</td><td>...</td><td>0</td><td>0</td><td>0</td><td>0</td><td>0</td><td>0</td><td>0</td><td>0</td><td>0</td><td>2</td></tr>\n",
       "</tbody>\n",
       "</table>\n"
      ],
      "text/latex": [
       "A data.frame: 6 x 56\n",
       "\\begin{tabular}{r|lllllllllllllllllllll}\n",
       "  & geo\\_level\\_1\\_id & geo\\_level\\_2\\_id & geo\\_level\\_3\\_id & count\\_floors\\_pre\\_eq & age & area\\_percentage & has\\_superstructure\\_adobe\\_mud & has\\_superstructure\\_mud\\_mortar\\_stone & has\\_superstructure\\_stone\\_flag & has\\_superstructure\\_cement\\_mortar\\_stone & ... & plan\\_configurationf & plan\\_configurationm & plan\\_configurationn & plan\\_configurationo & plan\\_configurations & plan\\_configurationu & legal\\_ownership\\_statusa & legal\\_ownership\\_statusr & legal\\_ownership\\_statusw & damage\\_grade\\\\\n",
       "  & <dbl> & <dbl> & <dbl> & <dbl> & <dbl> & <dbl> & <int> & <int> & <int> & <int> & ... & <dbl> & <dbl> & <dbl> & <dbl> & <dbl> & <dbl> & <dbl> & <dbl> & <dbl> & <int>\\\\\n",
       "\\hline\n",
       "\t1 & -0.9834118 & -0.5187039 &  1.6290515 & 2 & 30 & 6 & 1 & 1 & 0 & 0 & ... & 0 & 0 & 0 & 0 & 0 & 0 & 0 & 0 & 0 & 3\\\\\n",
       "\t2 & -0.7344579 &  0.4819970 & -0.9450156 & 2 & 10 & 8 & 0 & 1 & 0 & 0 & ... & 0 & 0 & 0 & 0 & 0 & 0 & 0 & 0 & 0 & 2\\\\\n",
       "\t3 &  0.8837423 & -0.8191565 &  0.7446102 & 2 & 10 & 5 & 0 & 1 & 0 & 0 & ... & 0 & 0 & 0 & 0 & 0 & 0 & 0 & 0 & 0 & 3\\\\\n",
       "\t4 &  1.0082192 & -0.6858913 &  1.2165864 & 2 & 10 & 6 & 0 & 1 & 0 & 0 & ... & 0 & 0 & 0 & 0 & 0 & 0 & 0 & 0 & 0 & 2\\\\\n",
       "\t5 & -0.3610271 & -1.3812936 & -1.3081165 & 2 & 30 & 8 & 1 & 0 & 0 & 0 & ... & 0 & 0 & 0 & 0 & 0 & 0 & 0 & 0 & 0 & 3\\\\\n",
       "\t6 & -0.7344579 & -0.3466706 & -0.0463135 & 2 & 10 & 9 & 0 & 1 & 0 & 0 & ... & 0 & 0 & 0 & 0 & 0 & 0 & 0 & 0 & 0 & 2\\\\\n",
       "\\end{tabular}\n"
      ],
      "text/markdown": [
       "\n",
       "A data.frame: 6 x 56\n",
       "\n",
       "| <!--/--> | geo_level_1_id &lt;dbl&gt; | geo_level_2_id &lt;dbl&gt; | geo_level_3_id &lt;dbl&gt; | count_floors_pre_eq &lt;dbl&gt; | age &lt;dbl&gt; | area_percentage &lt;dbl&gt; | has_superstructure_adobe_mud &lt;int&gt; | has_superstructure_mud_mortar_stone &lt;int&gt; | has_superstructure_stone_flag &lt;int&gt; | has_superstructure_cement_mortar_stone &lt;int&gt; | ... ... | plan_configurationf &lt;dbl&gt; | plan_configurationm &lt;dbl&gt; | plan_configurationn &lt;dbl&gt; | plan_configurationo &lt;dbl&gt; | plan_configurations &lt;dbl&gt; | plan_configurationu &lt;dbl&gt; | legal_ownership_statusa &lt;dbl&gt; | legal_ownership_statusr &lt;dbl&gt; | legal_ownership_statusw &lt;dbl&gt; | damage_grade &lt;int&gt; |\n",
       "|---|---|---|---|---|---|---|---|---|---|---|---|---|---|---|---|---|---|---|---|---|---|\n",
       "| 1 | -0.9834118 | -0.5187039 |  1.6290515 | 2 | 30 | 6 | 1 | 1 | 0 | 0 | ... | 0 | 0 | 0 | 0 | 0 | 0 | 0 | 0 | 0 | 3 |\n",
       "| 2 | -0.7344579 |  0.4819970 | -0.9450156 | 2 | 10 | 8 | 0 | 1 | 0 | 0 | ... | 0 | 0 | 0 | 0 | 0 | 0 | 0 | 0 | 0 | 2 |\n",
       "| 3 |  0.8837423 | -0.8191565 |  0.7446102 | 2 | 10 | 5 | 0 | 1 | 0 | 0 | ... | 0 | 0 | 0 | 0 | 0 | 0 | 0 | 0 | 0 | 3 |\n",
       "| 4 |  1.0082192 | -0.6858913 |  1.2165864 | 2 | 10 | 6 | 0 | 1 | 0 | 0 | ... | 0 | 0 | 0 | 0 | 0 | 0 | 0 | 0 | 0 | 2 |\n",
       "| 5 | -0.3610271 | -1.3812936 | -1.3081165 | 2 | 30 | 8 | 1 | 0 | 0 | 0 | ... | 0 | 0 | 0 | 0 | 0 | 0 | 0 | 0 | 0 | 3 |\n",
       "| 6 | -0.7344579 | -0.3466706 | -0.0463135 | 2 | 10 | 9 | 0 | 1 | 0 | 0 | ... | 0 | 0 | 0 | 0 | 0 | 0 | 0 | 0 | 0 | 2 |\n",
       "\n"
      ],
      "text/plain": [
       "  geo_level_1_id geo_level_2_id geo_level_3_id count_floors_pre_eq age\n",
       "1 -0.9834118     -0.5187039      1.6290515     2                   30 \n",
       "2 -0.7344579      0.4819970     -0.9450156     2                   10 \n",
       "3  0.8837423     -0.8191565      0.7446102     2                   10 \n",
       "4  1.0082192     -0.6858913      1.2165864     2                   10 \n",
       "5 -0.3610271     -1.3812936     -1.3081165     2                   30 \n",
       "6 -0.7344579     -0.3466706     -0.0463135     2                   10 \n",
       "  area_percentage has_superstructure_adobe_mud\n",
       "1 6               1                           \n",
       "2 8               0                           \n",
       "3 5               0                           \n",
       "4 6               0                           \n",
       "5 8               1                           \n",
       "6 9               0                           \n",
       "  has_superstructure_mud_mortar_stone has_superstructure_stone_flag\n",
       "1 1                                   0                            \n",
       "2 1                                   0                            \n",
       "3 1                                   0                            \n",
       "4 1                                   0                            \n",
       "5 0                                   0                            \n",
       "6 1                                   0                            \n",
       "  has_superstructure_cement_mortar_stone ... plan_configurationf\n",
       "1 0                                      ... 0                  \n",
       "2 0                                      ... 0                  \n",
       "3 0                                      ... 0                  \n",
       "4 0                                      ... 0                  \n",
       "5 0                                      ... 0                  \n",
       "6 0                                      ... 0                  \n",
       "  plan_configurationm plan_configurationn plan_configurationo\n",
       "1 0                   0                   0                  \n",
       "2 0                   0                   0                  \n",
       "3 0                   0                   0                  \n",
       "4 0                   0                   0                  \n",
       "5 0                   0                   0                  \n",
       "6 0                   0                   0                  \n",
       "  plan_configurations plan_configurationu legal_ownership_statusa\n",
       "1 0                   0                   0                      \n",
       "2 0                   0                   0                      \n",
       "3 0                   0                   0                      \n",
       "4 0                   0                   0                      \n",
       "5 0                   0                   0                      \n",
       "6 0                   0                   0                      \n",
       "  legal_ownership_statusr legal_ownership_statusw damage_grade\n",
       "1 0                       0                       3           \n",
       "2 0                       0                       2           \n",
       "3 0                       0                       3           \n",
       "4 0                       0                       2           \n",
       "5 0                       0                       3           \n",
       "6 0                       0                       2           "
      ]
     },
     "metadata": {},
     "output_type": "display_data"
    }
   ],
   "source": [
    "trainCleanedD <- select(trainCleaned,-c(to_delete_DG))\n",
    "head(trainCleanedD)"
   ]
  },
  {
   "cell_type": "code",
   "execution_count": 241,
   "metadata": {
    "vscode": {
     "languageId": "r"
    }
   },
   "outputs": [
    {
     "data": {
      "text/html": [
       "<table class=\"dataframe\">\n",
       "<caption>A data.frame: 6 x 55</caption>\n",
       "<thead>\n",
       "\t<tr><th></th><th scope=col>geo_level_1_id</th><th scope=col>geo_level_2_id</th><th scope=col>geo_level_3_id</th><th scope=col>count_floors_pre_eq</th><th scope=col>age</th><th scope=col>area_percentage</th><th scope=col>has_superstructure_adobe_mud</th><th scope=col>has_superstructure_mud_mortar_stone</th><th scope=col>has_superstructure_stone_flag</th><th scope=col>has_superstructure_cement_mortar_stone</th><th scope=col>...</th><th scope=col>plan_configurationd</th><th scope=col>plan_configurationf</th><th scope=col>plan_configurationm</th><th scope=col>plan_configurationn</th><th scope=col>plan_configurationo</th><th scope=col>plan_configurations</th><th scope=col>plan_configurationu</th><th scope=col>legal_ownership_statusa</th><th scope=col>legal_ownership_statusr</th><th scope=col>legal_ownership_statusw</th></tr>\n",
       "\t<tr><th></th><th scope=col>&lt;dbl&gt;</th><th scope=col>&lt;dbl&gt;</th><th scope=col>&lt;dbl&gt;</th><th scope=col>&lt;dbl&gt;</th><th scope=col>&lt;dbl&gt;</th><th scope=col>&lt;dbl&gt;</th><th scope=col>&lt;int&gt;</th><th scope=col>&lt;int&gt;</th><th scope=col>&lt;int&gt;</th><th scope=col>&lt;int&gt;</th><th scope=col>...</th><th scope=col>&lt;dbl&gt;</th><th scope=col>&lt;dbl&gt;</th><th scope=col>&lt;dbl&gt;</th><th scope=col>&lt;dbl&gt;</th><th scope=col>&lt;dbl&gt;</th><th scope=col>&lt;dbl&gt;</th><th scope=col>&lt;dbl&gt;</th><th scope=col>&lt;dbl&gt;</th><th scope=col>&lt;dbl&gt;</th><th scope=col>&lt;dbl&gt;</th></tr>\n",
       "</thead>\n",
       "<tbody>\n",
       "\t<tr><th scope=row>1</th><td> 0.3875425</td><td>-0.2615809</td><td> 1.3827458</td><td>2</td><td>20</td><td> 7</td><td>0</td><td>1</td><td>0</td><td>0</td><td>...</td><td>1</td><td>0</td><td>0</td><td>0</td><td>0</td><td>0</td><td>0</td><td>0</td><td>0</td><td>0</td></tr>\n",
       "\t<tr><th scope=row>2</th><td>-0.9823929</td><td>-1.3623056</td><td> 1.5691129</td><td>2</td><td>25</td><td>13</td><td>0</td><td>1</td><td>0</td><td>0</td><td>...</td><td>1</td><td>0</td><td>0</td><td>0</td><td>0</td><td>0</td><td>0</td><td>0</td><td>0</td><td>0</td></tr>\n",
       "\t<tr><th scope=row>3</th><td> 1.0102404</td><td>-1.6574450</td><td> 1.0365963</td><td>2</td><td> 5</td><td> 4</td><td>0</td><td>1</td><td>0</td><td>0</td><td>...</td><td>1</td><td>0</td><td>0</td><td>0</td><td>0</td><td>0</td><td>0</td><td>0</td><td>0</td><td>0</td></tr>\n",
       "\t<tr><th scope=row>4</th><td> 1.5083988</td><td>-1.6090615</td><td>-1.5426699</td><td>1</td><td> 0</td><td>19</td><td>0</td><td>0</td><td>0</td><td>0</td><td>...</td><td>1</td><td>0</td><td>0</td><td>0</td><td>0</td><td>0</td><td>0</td><td>0</td><td>0</td><td>0</td></tr>\n",
       "\t<tr><th scope=row>5</th><td> 0.3875425</td><td>-1.0042677</td><td> 0.4681765</td><td>2</td><td>15</td><td> 8</td><td>0</td><td>1</td><td>0</td><td>0</td><td>...</td><td>1</td><td>0</td><td>0</td><td>0</td><td>0</td><td>0</td><td>0</td><td>0</td><td>0</td><td>0</td></tr>\n",
       "\t<tr><th scope=row>6</th><td> 1.0102404</td><td>-1.2921495</td><td>-0.6119306</td><td>1</td><td>55</td><td> 4</td><td>0</td><td>1</td><td>0</td><td>0</td><td>...</td><td>1</td><td>0</td><td>0</td><td>0</td><td>0</td><td>0</td><td>0</td><td>0</td><td>0</td><td>0</td></tr>\n",
       "</tbody>\n",
       "</table>\n"
      ],
      "text/latex": [
       "A data.frame: 6 x 55\n",
       "\\begin{tabular}{r|lllllllllllllllllllll}\n",
       "  & geo\\_level\\_1\\_id & geo\\_level\\_2\\_id & geo\\_level\\_3\\_id & count\\_floors\\_pre\\_eq & age & area\\_percentage & has\\_superstructure\\_adobe\\_mud & has\\_superstructure\\_mud\\_mortar\\_stone & has\\_superstructure\\_stone\\_flag & has\\_superstructure\\_cement\\_mortar\\_stone & ... & plan\\_configurationd & plan\\_configurationf & plan\\_configurationm & plan\\_configurationn & plan\\_configurationo & plan\\_configurations & plan\\_configurationu & legal\\_ownership\\_statusa & legal\\_ownership\\_statusr & legal\\_ownership\\_statusw\\\\\n",
       "  & <dbl> & <dbl> & <dbl> & <dbl> & <dbl> & <dbl> & <int> & <int> & <int> & <int> & ... & <dbl> & <dbl> & <dbl> & <dbl> & <dbl> & <dbl> & <dbl> & <dbl> & <dbl> & <dbl>\\\\\n",
       "\\hline\n",
       "\t1 &  0.3875425 & -0.2615809 &  1.3827458 & 2 & 20 &  7 & 0 & 1 & 0 & 0 & ... & 1 & 0 & 0 & 0 & 0 & 0 & 0 & 0 & 0 & 0\\\\\n",
       "\t2 & -0.9823929 & -1.3623056 &  1.5691129 & 2 & 25 & 13 & 0 & 1 & 0 & 0 & ... & 1 & 0 & 0 & 0 & 0 & 0 & 0 & 0 & 0 & 0\\\\\n",
       "\t3 &  1.0102404 & -1.6574450 &  1.0365963 & 2 &  5 &  4 & 0 & 1 & 0 & 0 & ... & 1 & 0 & 0 & 0 & 0 & 0 & 0 & 0 & 0 & 0\\\\\n",
       "\t4 &  1.5083988 & -1.6090615 & -1.5426699 & 1 &  0 & 19 & 0 & 0 & 0 & 0 & ... & 1 & 0 & 0 & 0 & 0 & 0 & 0 & 0 & 0 & 0\\\\\n",
       "\t5 &  0.3875425 & -1.0042677 &  0.4681765 & 2 & 15 &  8 & 0 & 1 & 0 & 0 & ... & 1 & 0 & 0 & 0 & 0 & 0 & 0 & 0 & 0 & 0\\\\\n",
       "\t6 &  1.0102404 & -1.2921495 & -0.6119306 & 1 & 55 &  4 & 0 & 1 & 0 & 0 & ... & 1 & 0 & 0 & 0 & 0 & 0 & 0 & 0 & 0 & 0\\\\\n",
       "\\end{tabular}\n"
      ],
      "text/markdown": [
       "\n",
       "A data.frame: 6 x 55\n",
       "\n",
       "| <!--/--> | geo_level_1_id &lt;dbl&gt; | geo_level_2_id &lt;dbl&gt; | geo_level_3_id &lt;dbl&gt; | count_floors_pre_eq &lt;dbl&gt; | age &lt;dbl&gt; | area_percentage &lt;dbl&gt; | has_superstructure_adobe_mud &lt;int&gt; | has_superstructure_mud_mortar_stone &lt;int&gt; | has_superstructure_stone_flag &lt;int&gt; | has_superstructure_cement_mortar_stone &lt;int&gt; | ... ... | plan_configurationd &lt;dbl&gt; | plan_configurationf &lt;dbl&gt; | plan_configurationm &lt;dbl&gt; | plan_configurationn &lt;dbl&gt; | plan_configurationo &lt;dbl&gt; | plan_configurations &lt;dbl&gt; | plan_configurationu &lt;dbl&gt; | legal_ownership_statusa &lt;dbl&gt; | legal_ownership_statusr &lt;dbl&gt; | legal_ownership_statusw &lt;dbl&gt; |\n",
       "|---|---|---|---|---|---|---|---|---|---|---|---|---|---|---|---|---|---|---|---|---|---|\n",
       "| 1 |  0.3875425 | -0.2615809 |  1.3827458 | 2 | 20 |  7 | 0 | 1 | 0 | 0 | ... | 1 | 0 | 0 | 0 | 0 | 0 | 0 | 0 | 0 | 0 |\n",
       "| 2 | -0.9823929 | -1.3623056 |  1.5691129 | 2 | 25 | 13 | 0 | 1 | 0 | 0 | ... | 1 | 0 | 0 | 0 | 0 | 0 | 0 | 0 | 0 | 0 |\n",
       "| 3 |  1.0102404 | -1.6574450 |  1.0365963 | 2 |  5 |  4 | 0 | 1 | 0 | 0 | ... | 1 | 0 | 0 | 0 | 0 | 0 | 0 | 0 | 0 | 0 |\n",
       "| 4 |  1.5083988 | -1.6090615 | -1.5426699 | 1 |  0 | 19 | 0 | 0 | 0 | 0 | ... | 1 | 0 | 0 | 0 | 0 | 0 | 0 | 0 | 0 | 0 |\n",
       "| 5 |  0.3875425 | -1.0042677 |  0.4681765 | 2 | 15 |  8 | 0 | 1 | 0 | 0 | ... | 1 | 0 | 0 | 0 | 0 | 0 | 0 | 0 | 0 | 0 |\n",
       "| 6 |  1.0102404 | -1.2921495 | -0.6119306 | 1 | 55 |  4 | 0 | 1 | 0 | 0 | ... | 1 | 0 | 0 | 0 | 0 | 0 | 0 | 0 | 0 | 0 |\n",
       "\n"
      ],
      "text/plain": [
       "  geo_level_1_id geo_level_2_id geo_level_3_id count_floors_pre_eq age\n",
       "1  0.3875425     -0.2615809      1.3827458     2                   20 \n",
       "2 -0.9823929     -1.3623056      1.5691129     2                   25 \n",
       "3  1.0102404     -1.6574450      1.0365963     2                    5 \n",
       "4  1.5083988     -1.6090615     -1.5426699     1                    0 \n",
       "5  0.3875425     -1.0042677      0.4681765     2                   15 \n",
       "6  1.0102404     -1.2921495     -0.6119306     1                   55 \n",
       "  area_percentage has_superstructure_adobe_mud\n",
       "1  7              0                           \n",
       "2 13              0                           \n",
       "3  4              0                           \n",
       "4 19              0                           \n",
       "5  8              0                           \n",
       "6  4              0                           \n",
       "  has_superstructure_mud_mortar_stone has_superstructure_stone_flag\n",
       "1 1                                   0                            \n",
       "2 1                                   0                            \n",
       "3 1                                   0                            \n",
       "4 0                                   0                            \n",
       "5 1                                   0                            \n",
       "6 1                                   0                            \n",
       "  has_superstructure_cement_mortar_stone ... plan_configurationd\n",
       "1 0                                      ... 1                  \n",
       "2 0                                      ... 1                  \n",
       "3 0                                      ... 1                  \n",
       "4 0                                      ... 1                  \n",
       "5 0                                      ... 1                  \n",
       "6 0                                      ... 1                  \n",
       "  plan_configurationf plan_configurationm plan_configurationn\n",
       "1 0                   0                   0                  \n",
       "2 0                   0                   0                  \n",
       "3 0                   0                   0                  \n",
       "4 0                   0                   0                  \n",
       "5 0                   0                   0                  \n",
       "6 0                   0                   0                  \n",
       "  plan_configurationo plan_configurations plan_configurationu\n",
       "1 0                   0                   0                  \n",
       "2 0                   0                   0                  \n",
       "3 0                   0                   0                  \n",
       "4 0                   0                   0                  \n",
       "5 0                   0                   0                  \n",
       "6 0                   0                   0                  \n",
       "  legal_ownership_statusa legal_ownership_statusr legal_ownership_statusw\n",
       "1 0                       0                       0                      \n",
       "2 0                       0                       0                      \n",
       "3 0                       0                       0                      \n",
       "4 0                       0                       0                      \n",
       "5 0                       0                       0                      \n",
       "6 0                       0                       0                      "
      ]
     },
     "metadata": {},
     "output_type": "display_data"
    }
   ],
   "source": [
    "trainCleanedDT <- select(trainCleanedT,-c(to_delete_DG))\n",
    "head(trainCleanedDT)"
   ]
  },
  {
   "attachments": {},
   "cell_type": "markdown",
   "metadata": {},
   "source": [
    "The previous steps concern feature engineering and data verification, now we will move to the feature selection step.\n",
    "\n",
    "We are going to use methods known as filtering as stated in the tp of the course they are methods of preprocessing. \n",
    "\n",
    "They seek to evaluate the benefits of data features without considering the effects of the selected feature subset on the performance of the learning algorithm. These methods select variables by ordering them using compression techniques such as principal component analysis (PCA) or by computing their correlation or a more advanced similarity measure such as minimum redundancy and maximum relevance (mRMR) to the output.\n",
    "\n",
    "We will use the last two methods to make our feature selection\n",
    "\n",
    "Concerning the script of the \"Correlation with the output\" and \"mRMR\" we use the same as the TP 5 of the courses "
   ]
  },
  {
   "cell_type": "code",
   "execution_count": 242,
   "metadata": {
    "vscode": {
     "languageId": "r"
    }
   },
   "outputs": [],
   "source": [
    "X<-trainCleanedD[,setdiff(colnames(trainCleanedD),\"damage_grade\")]\n",
    "Y<-trainCleanedD[,\"damage_grade\"]\n",
    "N <-nrow(X)\n",
    "n <-ncol(X)"
   ]
  },
  {
   "cell_type": "code",
   "execution_count": 132,
   "metadata": {
    "vscode": {
     "languageId": "r"
    }
   },
   "outputs": [
    {
     "data": {
      "image/png": "[encoded data removed]",
      "text/plain": [
       "Plot with title \"Histogram of Y\""
      ]
     },
     "metadata": {
      "image/png": {
       "height": 420,
       "width": 420
      }
     },
     "output_type": "display_data"
    }
   ],
   "source": [
    "hist(Y)"
   ]
  },
  {
   "attachments": {},
   "cell_type": "markdown",
   "metadata": {},
   "source": [
    "Correlation with the output"
   ]
  },
  {
   "cell_type": "code",
   "execution_count": 243,
   "metadata": {
    "vscode": {
     "languageId": "r"
    }
   },
   "outputs": [
    {
     "name": "stdout",
     "output_type": "stream",
     "text": [
      " [1] \"#Features:  1  ; CV error= 0.3302  ; std dev= 0.0022\" \n",
      " [2] \"#Features:  2  ; CV error= 0.3199  ; std dev= 0.0019\" \n",
      " [3] \"#Features:  3  ; CV error= 0.3174  ; std dev= 0.0019\" \n",
      " [4] \"#Features:  4  ; CV error= 0.3169  ; std dev= 0.0019\" \n",
      " [5] \"#Features:  5  ; CV error= 0.3161  ; std dev= 0.0018\" \n",
      " [6] \"#Features:  6  ; CV error= 0.3146  ; std dev= 0.0019\" \n",
      " [7] \"#Features:  7  ; CV error= 0.3146  ; std dev= 0.0018\" \n",
      " [8] \"#Features:  8  ; CV error= 0.3138  ; std dev= 0.0018\" \n",
      " [9] \"#Features:  9  ; CV error= 0.3122  ; std dev= 0.0018\" \n",
      "[10] \"#Features:  10  ; CV error= 0.3119  ; std dev= 0.0018\"\n",
      "[11] \"#Features:  11  ; CV error= 0.3112  ; std dev= 0.0019\"\n",
      "[12] \"#Features:  12  ; CV error= 0.3112  ; std dev= 0.0019\"\n",
      "[13] \"#Features:  13  ; CV error= 0.3111  ; std dev= 0.0019\"\n",
      "[14] \"#Features:  14  ; CV error= 0.311  ; std dev= 0.0019\" \n",
      "[15] \"#Features:  15  ; CV error= 0.311  ; std dev= 0.0019\" \n",
      "[16] \"#Features:  16  ; CV error= 0.3106  ; std dev= 0.0016\"\n",
      "[17] \"#Features:  17  ; CV error= 0.3102  ; std dev= 0.0017\"\n",
      "[18] \"#Features:  18  ; CV error= 0.3102  ; std dev= 0.0017\"\n",
      "[19] \"#Features:  19  ; CV error= 0.3091  ; std dev= 0.0017\"\n",
      "[20] \"#Features:  20  ; CV error= 0.3079  ; std dev= 0.0015\"\n",
      "[21] \"#Features:  21  ; CV error= 0.3074  ; std dev= 0.0016\"\n",
      "[22] \"#Features:  22  ; CV error= 0.3073  ; std dev= 0.0016\"\n",
      "[23] \"#Features:  23  ; CV error= 0.3071  ; std dev= 0.0017\"\n",
      "[24] \"#Features:  24  ; CV error= 0.3071  ; std dev= 0.0017\"\n",
      "[25] \"#Features:  25  ; CV error= 0.3063  ; std dev= 0.0016\"\n",
      "[26] \"#Features:  26  ; CV error= 0.3051  ; std dev= 0.0017\"\n",
      "[27] \"#Features:  27  ; CV error= 0.305  ; std dev= 0.0016\" \n",
      "[28] \"#Features:  28  ; CV error= 0.305  ; std dev= 0.0016\" \n",
      "[29] \"#Features:  29  ; CV error= 0.3049  ; std dev= 0.0016\"\n",
      "[30] \"#Features:  30  ; CV error= 0.3048  ; std dev= 0.0016\"\n",
      "[31] \"#Features:  31  ; CV error= 0.3047  ; std dev= 0.0016\"\n",
      "[32] \"#Features:  32  ; CV error= 0.3046  ; std dev= 0.0015\"\n",
      "[33] \"#Features:  33  ; CV error= 0.3045  ; std dev= 0.0016\"\n",
      "[34] \"#Features:  34  ; CV error= 0.3044  ; std dev= 0.0016\"\n",
      "[35] \"#Features:  35  ; CV error= 0.3044  ; std dev= 0.0016\"\n",
      "[36] \"#Features:  36  ; CV error= 0.3043  ; std dev= 0.0016\"\n",
      "[37] \"#Features:  37  ; CV error= 0.3043  ; std dev= 0.0015\"\n",
      "[38] \"#Features:  38  ; CV error= 0.3042  ; std dev= 0.0016\"\n",
      "[39] \"#Features:  39  ; CV error= 0.3041  ; std dev= 0.0016\"\n",
      "[40] \"#Features:  40  ; CV error= 0.304  ; std dev= 0.0016\" \n",
      "[41] \"#Features:  41  ; CV error= 0.304  ; std dev= 0.0016\" \n",
      "[42] \"#Features:  42  ; CV error= 0.3038  ; std dev= 0.0016\"\n",
      "[43] \"#Features:  43  ; CV error= 0.3038  ; std dev= 0.0016\"\n",
      "[44] \"#Features:  44  ; CV error= 0.3038  ; std dev= 0.0016\"\n",
      "[45] \"#Features:  45  ; CV error= 0.3038  ; std dev= 0.0016\"\n",
      "[46] \"#Features:  46  ; CV error= 0.3038  ; std dev= 0.0016\"\n",
      "[47] \"#Features:  47  ; CV error= 0.3038  ; std dev= 0.0016\"\n",
      "[48] \"#Features:  48  ; CV error= 0.3038  ; std dev= 0.0016\"\n",
      "[49] \"#Features:  49  ; CV error= 0.3038  ; std dev= 0.0016\"\n",
      "[50] \"#Features:  50  ; CV error= 0.3038  ; std dev= 0.0016\"\n",
      "[51] \"#Features:  51  ; CV error= 0.3038  ; std dev= 0.0016\"\n",
      "[52] \"#Features:  52  ; CV error= 0.3037  ; std dev= 0.0016\"\n",
      "[53] \"#Features:  53  ; CV error= 0.3037  ; std dev= 0.0016\"\n",
      "[54] \"#Features:  54  ; CV error= 0.3037  ; std dev= 0.0016\"\n",
      "[55] \"#Features:  55  ; CV error= 0.3037  ; std dev= 0.0016\"\n"
     ]
    }
   ],
   "source": [
    "CV_folds <- 10\n",
    "\n",
    "size_CV <-floor(N/CV_folds)\n",
    "\n",
    "CV_err<-matrix(0,nrow=n,ncol=CV_folds)\n",
    "\n",
    "for (i in 1:CV_folds) {\n",
    "    \n",
    "    idx_ts<-(((i-1)*size_CV+1):(i*size_CV))  ### idx_ts represents the indices of the test set the i-th fold\n",
    "    X_ts<-X[idx_ts,]  \n",
    "    Y_ts<-Y[idx_ts]  \n",
    "     \n",
    "    idx_tr<-setdiff(1:N,idx_ts) ### idx_tr represents  indices of the training sefor the i-th fold\n",
    "    X_tr<-X[idx_tr,]\n",
    "    Y_tr<-Y[idx_tr]                          \n",
    "    \n",
    "    # Compute correlation across all the input variables and the target variable\n",
    "    correlation_vector <-abs(cor(X_tr,Y_tr))\n",
    "    # Rank variables according to correlation with the output\n",
    "    correlation_ranking_idx <-sort(correlation_vector,dec=T,index.return=T)$ix\n",
    "     \n",
    "    for (nb_features in 1:n) {\n",
    "        # Create a dataset including only the nb_features most correlated variables with the output\n",
    "        DS<-cbind(X_tr[,correlation_ranking_idx[1:nb_features],drop=F],damage_grade=Y_tr)\n",
    "        \n",
    "        # Model fit (using lm function)\n",
    "        model<- lm(damage_grade~.,DS)\n",
    "        \n",
    "        # Model prediction\n",
    "        Y_hat_ts<- predict(model,X_ts[,correlation_ranking_idx[1:nb_features],drop=F])\n",
    "        \n",
    "        # Cross validation error = MSE\n",
    "        CV_err[nb_features,i] <- mean((Y_hat_ts-Y_ts)^2)\n",
    "    }\n",
    "}  \n",
    "\n",
    "print(paste(\"#Features: \",c(1:n),\" ; CV error=\",round(apply(CV_err,1,mean),digits=4), \" ; std dev=\",round(apply(CV_err,1,sd),digits=4)))"
   ]
  },
  {
   "cell_type": "code",
   "execution_count": 244,
   "metadata": {
    "vscode": {
     "languageId": "r"
    }
   },
   "outputs": [
    {
     "data": {
      "text/html": [
       "<style>\n",
       ".list-inline {list-style: none; margin:0; padding: 0}\n",
       ".list-inline>li {display: inline-block}\n",
       ".list-inline>li:not(:last-child)::after {content: \"\\00b7\"; padding: 0 .5ex}\n",
       "</style>\n",
       "<ol class=list-inline><li>32</li><li>37</li><li>8</li><li>12</li><li>16</li><li>34</li><li>39</li><li>15</li><li>5</li><li>33</li><li>4</li><li>6</li><li>20</li><li>21</li><li>53</li><li>35</li><li>19</li><li>1</li><li>13</li><li>9</li><li>18</li><li>14</li><li>52</li><li>10</li><li>7</li><li>43</li><li>40</li><li>46</li><li>2</li><li>41</li><li>17</li><li>55</li><li>22</li><li>45</li><li>44</li><li>36</li><li>38</li><li>28</li><li>30</li><li>29</li><li>31</li><li>11</li><li>50</li><li>24</li><li>51</li><li>23</li><li>26</li><li>25</li><li>3</li><li>48</li><li>42</li><li>54</li><li>49</li><li>27</li><li>47</li></ol>\n"
      ],
      "text/latex": [
       "\\begin{enumerate*}\n",
       "\\item 32\n",
       "\\item 37\n",
       "\\item 8\n",
       "\\item 12\n",
       "\\item 16\n",
       "\\item 34\n",
       "\\item 39\n",
       "\\item 15\n",
       "\\item 5\n",
       "\\item 33\n",
       "\\item 4\n",
       "\\item 6\n",
       "\\item 20\n",
       "\\item 21\n",
       "\\item 53\n",
       "\\item 35\n",
       "\\item 19\n",
       "\\item 1\n",
       "\\item 13\n",
       "\\item 9\n",
       "\\item 18\n",
       "\\item 14\n",
       "\\item 52\n",
       "\\item 10\n",
       "\\item 7\n",
       "\\item 43\n",
       "\\item 40\n",
       "\\item 46\n",
       "\\item 2\n",
       "\\item 41\n",
       "\\item 17\n",
       "\\item 55\n",
       "\\item 22\n",
       "\\item 45\n",
       "\\item 44\n",
       "\\item 36\n",
       "\\item 38\n",
       "\\item 28\n",
       "\\item 30\n",
       "\\item 29\n",
       "\\item 31\n",
       "\\item 11\n",
       "\\item 50\n",
       "\\item 24\n",
       "\\item 51\n",
       "\\item 23\n",
       "\\item 26\n",
       "\\item 25\n",
       "\\item 3\n",
       "\\item 48\n",
       "\\item 42\n",
       "\\item 54\n",
       "\\item 49\n",
       "\\item 27\n",
       "\\item 47\n",
       "\\end{enumerate*}\n"
      ],
      "text/markdown": [
       "1. 32\n",
       "2. 37\n",
       "3. 8\n",
       "4. 12\n",
       "5. 16\n",
       "6. 34\n",
       "7. 39\n",
       "8. 15\n",
       "9. 5\n",
       "10. 33\n",
       "11. 4\n",
       "12. 6\n",
       "13. 20\n",
       "14. 21\n",
       "15. 53\n",
       "16. 35\n",
       "17. 19\n",
       "18. 1\n",
       "19. 13\n",
       "20. 9\n",
       "21. 18\n",
       "22. 14\n",
       "23. 52\n",
       "24. 10\n",
       "25. 7\n",
       "26. 43\n",
       "27. 40\n",
       "28. 46\n",
       "29. 2\n",
       "30. 41\n",
       "31. 17\n",
       "32. 55\n",
       "33. 22\n",
       "34. 45\n",
       "35. 44\n",
       "36. 36\n",
       "37. 38\n",
       "38. 28\n",
       "39. 30\n",
       "40. 29\n",
       "41. 31\n",
       "42. 11\n",
       "43. 50\n",
       "44. 24\n",
       "45. 51\n",
       "46. 23\n",
       "47. 26\n",
       "48. 25\n",
       "49. 3\n",
       "50. 48\n",
       "51. 42\n",
       "52. 54\n",
       "53. 49\n",
       "54. 27\n",
       "55. 47\n",
       "\n",
       "\n"
      ],
      "text/plain": [
       " [1] 32 37  8 12 16 34 39 15  5 33  4  6 20 21 53 35 19  1 13  9 18 14 52 10  7\n",
       "[26] 43 40 46  2 41 17 55 22 45 44 36 38 28 30 29 31 11 50 24 51 23 26 25  3 48\n",
       "[51] 42 54 49 27 47"
      ]
     },
     "metadata": {},
     "output_type": "display_data"
    },
    {
     "data": {
      "text/html": [
       "<style>\n",
       ".list-inline {list-style: none; margin:0; padding: 0}\n",
       ".list-inline>li {display: inline-block}\n",
       ".list-inline>li:not(:last-child)::after {content: \"\\00b7\"; padding: 0 .5ex}\n",
       "</style>\n",
       "<ol class=list-inline><li>'foundation_typer'</li><li>'ground_floor_typev'</li><li>'has_superstructure_mud_mortar_stone'</li><li>'has_superstructure_cement_mortar_brick'</li><li>'has_superstructure_rc_engineered'</li><li>'foundation_typew'</li><li>'other_floor_typeq'</li><li>'has_superstructure_rc_non_engineered'</li><li>'age'</li><li>'foundation_typeu'</li><li>'count_floors_pre_eq'</li><li>'area_percentage'</li><li>'has_secondary_use_hotel'</li><li>'has_secondary_use_rental'</li><li>'legal_ownership_statusa'</li><li>'roof_typen'</li><li>'has_secondary_use'</li><li>'geo_level_1_id'</li><li>'has_superstructure_timber'</li><li>'has_superstructure_stone_flag'</li><li>'count_families'</li><li>'has_superstructure_bamboo'</li><li>'plan_configurationu'</li><li>'has_superstructure_cement_mortar_stone'</li><li>'has_superstructure_adobe_mud'</li><li>'positiont'</li><li>'other_floor_typex'</li><li>'plan_configurationd'</li><li>'geo_level_2_id'</li><li>'positionj'</li><li>'has_superstructure_other'</li><li>'legal_ownership_statusw'</li><li>'has_secondary_use_institution'</li><li>'plan_configurationc'</li><li>'plan_configurationa'</li><li>'ground_floor_typem'</li><li>'ground_floor_typez'</li><li>'has_secondary_use_other'</li><li>'land_surface_conditiont'</li><li>'land_surface_conditiono'</li><li>'foundation_typeh'</li><li>'has_superstructure_mud_mortar_brick'</li><li>'plan_configurationo'</li><li>'has_secondary_use_industry'</li><li>'plan_configurations'</li><li>'has_secondary_use_school'</li><li>'has_secondary_use_gov_office'</li><li>'has_secondary_use_health_post'</li><li>'geo_level_3_id'</li><li>'plan_configurationm'</li><li>'positiono'</li><li>'legal_ownership_statusr'</li><li>'plan_configurationn'</li><li>'has_secondary_use_use_police'</li><li>'plan_configurationf'</li></ol>\n"
      ],
      "text/latex": [
       "\\begin{enumerate*}\n",
       "\\item 'foundation\\_typer'\n",
       "\\item 'ground\\_floor\\_typev'\n",
       "\\item 'has\\_superstructure\\_mud\\_mortar\\_stone'\n",
       "\\item 'has\\_superstructure\\_cement\\_mortar\\_brick'\n",
       "\\item 'has\\_superstructure\\_rc\\_engineered'\n",
       "\\item 'foundation\\_typew'\n",
       "\\item 'other\\_floor\\_typeq'\n",
       "\\item 'has\\_superstructure\\_rc\\_non\\_engineered'\n",
       "\\item 'age'\n",
       "\\item 'foundation\\_typeu'\n",
       "\\item 'count\\_floors\\_pre\\_eq'\n",
       "\\item 'area\\_percentage'\n",
       "\\item 'has\\_secondary\\_use\\_hotel'\n",
       "\\item 'has\\_secondary\\_use\\_rental'\n",
       "\\item 'legal\\_ownership\\_statusa'\n",
       "\\item 'roof\\_typen'\n",
       "\\item 'has\\_secondary\\_use'\n",
       "\\item 'geo\\_level\\_1\\_id'\n",
       "\\item 'has\\_superstructure\\_timber'\n",
       "\\item 'has\\_superstructure\\_stone\\_flag'\n",
       "\\item 'count\\_families'\n",
       "\\item 'has\\_superstructure\\_bamboo'\n",
       "\\item 'plan\\_configurationu'\n",
       "\\item 'has\\_superstructure\\_cement\\_mortar\\_stone'\n",
       "\\item 'has\\_superstructure\\_adobe\\_mud'\n",
       "\\item 'positiont'\n",
       "\\item 'other\\_floor\\_typex'\n",
       "\\item 'plan\\_configurationd'\n",
       "\\item 'geo\\_level\\_2\\_id'\n",
       "\\item 'positionj'\n",
       "\\item 'has\\_superstructure\\_other'\n",
       "\\item 'legal\\_ownership\\_statusw'\n",
       "\\item 'has\\_secondary\\_use\\_institution'\n",
       "\\item 'plan\\_configurationc'\n",
       "\\item 'plan\\_configurationa'\n",
       "\\item 'ground\\_floor\\_typem'\n",
       "\\item 'ground\\_floor\\_typez'\n",
       "\\item 'has\\_secondary\\_use\\_other'\n",
       "\\item 'land\\_surface\\_conditiont'\n",
       "\\item 'land\\_surface\\_conditiono'\n",
       "\\item 'foundation\\_typeh'\n",
       "\\item 'has\\_superstructure\\_mud\\_mortar\\_brick'\n",
       "\\item 'plan\\_configurationo'\n",
       "\\item 'has\\_secondary\\_use\\_industry'\n",
       "\\item 'plan\\_configurations'\n",
       "\\item 'has\\_secondary\\_use\\_school'\n",
       "\\item 'has\\_secondary\\_use\\_gov\\_office'\n",
       "\\item 'has\\_secondary\\_use\\_health\\_post'\n",
       "\\item 'geo\\_level\\_3\\_id'\n",
       "\\item 'plan\\_configurationm'\n",
       "\\item 'positiono'\n",
       "\\item 'legal\\_ownership\\_statusr'\n",
       "\\item 'plan\\_configurationn'\n",
       "\\item 'has\\_secondary\\_use\\_use\\_police'\n",
       "\\item 'plan\\_configurationf'\n",
       "\\end{enumerate*}\n"
      ],
      "text/markdown": [
       "1. 'foundation_typer'\n",
       "2. 'ground_floor_typev'\n",
       "3. 'has_superstructure_mud_mortar_stone'\n",
       "4. 'has_superstructure_cement_mortar_brick'\n",
       "5. 'has_superstructure_rc_engineered'\n",
       "6. 'foundation_typew'\n",
       "7. 'other_floor_typeq'\n",
       "8. 'has_superstructure_rc_non_engineered'\n",
       "9. 'age'\n",
       "10. 'foundation_typeu'\n",
       "11. 'count_floors_pre_eq'\n",
       "12. 'area_percentage'\n",
       "13. 'has_secondary_use_hotel'\n",
       "14. 'has_secondary_use_rental'\n",
       "15. 'legal_ownership_statusa'\n",
       "16. 'roof_typen'\n",
       "17. 'has_secondary_use'\n",
       "18. 'geo_level_1_id'\n",
       "19. 'has_superstructure_timber'\n",
       "20. 'has_superstructure_stone_flag'\n",
       "21. 'count_families'\n",
       "22. 'has_superstructure_bamboo'\n",
       "23. 'plan_configurationu'\n",
       "24. 'has_superstructure_cement_mortar_stone'\n",
       "25. 'has_superstructure_adobe_mud'\n",
       "26. 'positiont'\n",
       "27. 'other_floor_typex'\n",
       "28. 'plan_configurationd'\n",
       "29. 'geo_level_2_id'\n",
       "30. 'positionj'\n",
       "31. 'has_superstructure_other'\n",
       "32. 'legal_ownership_statusw'\n",
       "33. 'has_secondary_use_institution'\n",
       "34. 'plan_configurationc'\n",
       "35. 'plan_configurationa'\n",
       "36. 'ground_floor_typem'\n",
       "37. 'ground_floor_typez'\n",
       "38. 'has_secondary_use_other'\n",
       "39. 'land_surface_conditiont'\n",
       "40. 'land_surface_conditiono'\n",
       "41. 'foundation_typeh'\n",
       "42. 'has_superstructure_mud_mortar_brick'\n",
       "43. 'plan_configurationo'\n",
       "44. 'has_secondary_use_industry'\n",
       "45. 'plan_configurations'\n",
       "46. 'has_secondary_use_school'\n",
       "47. 'has_secondary_use_gov_office'\n",
       "48. 'has_secondary_use_health_post'\n",
       "49. 'geo_level_3_id'\n",
       "50. 'plan_configurationm'\n",
       "51. 'positiono'\n",
       "52. 'legal_ownership_statusr'\n",
       "53. 'plan_configurationn'\n",
       "54. 'has_secondary_use_use_police'\n",
       "55. 'plan_configurationf'\n",
       "\n",
       "\n"
      ],
      "text/plain": [
       " [1] \"foundation_typer\"                      \n",
       " [2] \"ground_floor_typev\"                    \n",
       " [3] \"has_superstructure_mud_mortar_stone\"   \n",
       " [4] \"has_superstructure_cement_mortar_brick\"\n",
       " [5] \"has_superstructure_rc_engineered\"      \n",
       " [6] \"foundation_typew\"                      \n",
       " [7] \"other_floor_typeq\"                     \n",
       " [8] \"has_superstructure_rc_non_engineered\"  \n",
       " [9] \"age\"                                   \n",
       "[10] \"foundation_typeu\"                      \n",
       "[11] \"count_floors_pre_eq\"                   \n",
       "[12] \"area_percentage\"                       \n",
       "[13] \"has_secondary_use_hotel\"               \n",
       "[14] \"has_secondary_use_rental\"              \n",
       "[15] \"legal_ownership_statusa\"               \n",
       "[16] \"roof_typen\"                            \n",
       "[17] \"has_secondary_use\"                     \n",
       "[18] \"geo_level_1_id\"                        \n",
       "[19] \"has_superstructure_timber\"             \n",
       "[20] \"has_superstructure_stone_flag\"         \n",
       "[21] \"count_families\"                        \n",
       "[22] \"has_superstructure_bamboo\"             \n",
       "[23] \"plan_configurationu\"                   \n",
       "[24] \"has_superstructure_cement_mortar_stone\"\n",
       "[25] \"has_superstructure_adobe_mud\"          \n",
       "[26] \"positiont\"                             \n",
       "[27] \"other_floor_typex\"                     \n",
       "[28] \"plan_configurationd\"                   \n",
       "[29] \"geo_level_2_id\"                        \n",
       "[30] \"positionj\"                             \n",
       "[31] \"has_superstructure_other\"              \n",
       "[32] \"legal_ownership_statusw\"               \n",
       "[33] \"has_secondary_use_institution\"         \n",
       "[34] \"plan_configurationc\"                   \n",
       "[35] \"plan_configurationa\"                   \n",
       "[36] \"ground_floor_typem\"                    \n",
       "[37] \"ground_floor_typez\"                    \n",
       "[38] \"has_secondary_use_other\"               \n",
       "[39] \"land_surface_conditiont\"               \n",
       "[40] \"land_surface_conditiono\"               \n",
       "[41] \"foundation_typeh\"                      \n",
       "[42] \"has_superstructure_mud_mortar_brick\"   \n",
       "[43] \"plan_configurationo\"                   \n",
       "[44] \"has_secondary_use_industry\"            \n",
       "[45] \"plan_configurations\"                   \n",
       "[46] \"has_secondary_use_school\"              \n",
       "[47] \"has_secondary_use_gov_office\"          \n",
       "[48] \"has_secondary_use_health_post\"         \n",
       "[49] \"geo_level_3_id\"                        \n",
       "[50] \"plan_configurationm\"                   \n",
       "[51] \"positiono\"                             \n",
       "[52] \"legal_ownership_statusr\"               \n",
       "[53] \"plan_configurationn\"                   \n",
       "[54] \"has_secondary_use_use_police\"          \n",
       "[55] \"plan_configurationf\"                   "
      ]
     },
     "metadata": {},
     "output_type": "display_data"
    }
   ],
   "source": [
    "NuF1 <- correlation_ranking_idx\n",
    "NaF1 <- colnames(X)[correlation_ranking_idx]\n",
    "NuF1\n",
    "NaF1"
   ]
  },
  {
   "attachments": {},
   "cell_type": "markdown",
   "metadata": {},
   "source": [
    "mRMR"
   ]
  },
  {
   "cell_type": "code",
   "execution_count": 245,
   "metadata": {
    "vscode": {
     "languageId": "r"
    }
   },
   "outputs": [
    {
     "name": "stdout",
     "output_type": "stream",
     "text": [
      " [1] \"#Features:  1  ; CV error= 0.3302  ; std dev= 0.0022\" \n",
      " [2] \"#Features:  2  ; CV error= 0.3199  ; std dev= 0.0019\" \n",
      " [3] \"#Features:  3  ; CV error= 0.3189  ; std dev= 0.002\"  \n",
      " [4] \"#Features:  4  ; CV error= 0.3166  ; std dev= 0.0019\" \n",
      " [5] \"#Features:  5  ; CV error= 0.3159  ; std dev= 0.002\"  \n",
      " [6] \"#Features:  6  ; CV error= 0.3142  ; std dev= 0.002\"  \n",
      " [7] \"#Features:  7  ; CV error= 0.313  ; std dev= 0.0019\"  \n",
      " [8] \"#Features:  8  ; CV error= 0.3129  ; std dev= 0.0019\" \n",
      " [9] \"#Features:  9  ; CV error= 0.3122  ; std dev= 0.0018\" \n",
      "[10] \"#Features:  10  ; CV error= 0.3119  ; std dev= 0.0018\"\n",
      "[11] \"#Features:  11  ; CV error= 0.3112  ; std dev= 0.0017\"\n",
      "[12] \"#Features:  12  ; CV error= 0.3106  ; std dev= 0.0018\"\n",
      "[13] \"#Features:  13  ; CV error= 0.3106  ; std dev= 0.0018\"\n",
      "[14] \"#Features:  14  ; CV error= 0.3104  ; std dev= 0.0018\"\n",
      "[15] \"#Features:  15  ; CV error= 0.3095  ; std dev= 0.0017\"\n",
      "[16] \"#Features:  16  ; CV error= 0.3095  ; std dev= 0.0017\"\n",
      "[17] \"#Features:  17  ; CV error= 0.3082  ; std dev= 0.0016\"\n",
      "[18] \"#Features:  18  ; CV error= 0.3079  ; std dev= 0.0016\"\n",
      "[19] \"#Features:  19  ; CV error= 0.3075  ; std dev= 0.0016\"\n",
      "[20] \"#Features:  20  ; CV error= 0.3067  ; std dev= 0.0016\"\n",
      "[21] \"#Features:  21  ; CV error= 0.3067  ; std dev= 0.0016\"\n",
      "[22] \"#Features:  22  ; CV error= 0.3066  ; std dev= 0.0016\"\n",
      "[23] \"#Features:  23  ; CV error= 0.3064  ; std dev= 0.0016\"\n",
      "[24] \"#Features:  24  ; CV error= 0.3064  ; std dev= 0.0016\"\n",
      "[25] \"#Features:  25  ; CV error= 0.3064  ; std dev= 0.0016\"\n",
      "[26] \"#Features:  26  ; CV error= 0.3061  ; std dev= 0.0016\"\n",
      "[27] \"#Features:  27  ; CV error= 0.3058  ; std dev= 0.0018\"\n",
      "[28] \"#Features:  28  ; CV error= 0.305  ; std dev= 0.0017\" \n",
      "[29] \"#Features:  29  ; CV error= 0.3049  ; std dev= 0.0016\"\n",
      "[30] \"#Features:  30  ; CV error= 0.3048  ; std dev= 0.0016\"\n",
      "[31] \"#Features:  31  ; CV error= 0.3047  ; std dev= 0.0016\"\n",
      "[32] \"#Features:  32  ; CV error= 0.3047  ; std dev= 0.0016\"\n",
      "[33] \"#Features:  33  ; CV error= 0.3046  ; std dev= 0.0016\"\n",
      "[34] \"#Features:  34  ; CV error= 0.3045  ; std dev= 0.0015\"\n",
      "[35] \"#Features:  35  ; CV error= 0.3044  ; std dev= 0.0016\"\n",
      "[36] \"#Features:  36  ; CV error= 0.3044  ; std dev= 0.0015\"\n",
      "[37] \"#Features:  37  ; CV error= 0.3043  ; std dev= 0.0016\"\n",
      "[38] \"#Features:  38  ; CV error= 0.3042  ; std dev= 0.0016\"\n",
      "[39] \"#Features:  39  ; CV error= 0.3042  ; std dev= 0.0015\"\n",
      "[40] \"#Features:  40  ; CV error= 0.3041  ; std dev= 0.0015\"\n",
      "[41] \"#Features:  41  ; CV error= 0.3041  ; std dev= 0.0016\"\n",
      "[42] \"#Features:  42  ; CV error= 0.304  ; std dev= 0.0015\" \n",
      "[43] \"#Features:  43  ; CV error= 0.3039  ; std dev= 0.0015\"\n",
      "[44] \"#Features:  44  ; CV error= 0.3039  ; std dev= 0.0015\"\n",
      "[45] \"#Features:  45  ; CV error= 0.3039  ; std dev= 0.0015\"\n",
      "[46] \"#Features:  46  ; CV error= 0.3039  ; std dev= 0.0015\"\n",
      "[47] \"#Features:  47  ; CV error= 0.3039  ; std dev= 0.0015\"\n",
      "[48] \"#Features:  48  ; CV error= 0.3039  ; std dev= 0.0015\"\n",
      "[49] \"#Features:  49  ; CV error= 0.3039  ; std dev= 0.0015\"\n",
      "[50] \"#Features:  50  ; CV error= 0.3039  ; std dev= 0.0016\"\n",
      "[51] \"#Features:  51  ; CV error= 0.3039  ; std dev= 0.0016\"\n",
      "[52] \"#Features:  52  ; CV error= 0.3038  ; std dev= 0.0015\"\n",
      "[53] \"#Features:  53  ; CV error= 0.3037  ; std dev= 0.0016\"\n",
      "[54] \"#Features:  54  ; CV error= 0.3037  ; std dev= 0.0016\"\n",
      "[55] \"#Features:  55  ; CV error= 0.3037  ; std dev= 0.0016\"\n"
     ]
    }
   ],
   "source": [
    "CV_folds <- 10\n",
    "\n",
    "size_CV <-floor(N/CV_folds)\n",
    "\n",
    "CV_err<-matrix(0,nrow=n,ncol=CV_folds)\n",
    "\n",
    "for (i in 1:CV_folds) {\n",
    "    \n",
    "    idx_ts<-(((i-1)*size_CV+1):(i*size_CV))  ### idx_ts represents the indices of the test set the i-th fold\n",
    "    X_ts<-X[idx_ts,]  \n",
    "    Y_ts<-Y[idx_ts]  \n",
    "     \n",
    "    idx_tr<-setdiff(1:N,idx_ts) ### idx_tr represents  indices of the training sefor the i-th fold\n",
    "    X_tr<-X[idx_tr,]\n",
    "    Y_tr<-Y[idx_tr]                          \n",
    "    \n",
    "    # Computing the correlation between input variables and output variable on the training set\n",
    "    correlation<-abs(cor(X_tr,Y_tr))\n",
    "    \n",
    "    # Initialization : No variables are selected and all the variables are candidates\n",
    "    selected<-c()\n",
    "    candidates<-1:n\n",
    "    \n",
    "    #mRMR ranks the variables by taking account not only the correlation with the output, but also by avoiding redudant variables\n",
    "    for (j in 1:n) {\n",
    "        redundancy_score<-numeric(length(candidates))\n",
    "        \n",
    "        if (length(selected)>0) {\n",
    "            # Compute the correlation between the selected variables and the candidates on the training set\n",
    "            cor_selected_candidates<-cor(X_tr[,selected,drop=F],X_tr[,candidates,drop=F])\n",
    "            # Compute the mean correlation for each candidate variable, across the selected variables\n",
    "            redundancy_score<-apply(cor_selected_candidates,2,mean)\n",
    "        }\n",
    "        \n",
    "        # mRMR: minimum Redundancy Maximum Relevancy\n",
    "        mRMR_score<-correlation[candidates]-redundancy_score\n",
    "        \n",
    "        # Select the candidate variable that maximises the mRMR score\n",
    "        selected_current<-candidates[which.max(mRMR_score)]\n",
    "        selected<-c(selected,selected_current)\n",
    "        \n",
    "        # Remove the selected variables from the candidates\n",
    "        candidates<-setdiff(candidates,selected_current)\n",
    "    }\n",
    "    \n",
    "    ranking <- selected\n",
    "     \n",
    "    for (nb_features in 1:n) {\n",
    "        # Create a dataset including only the first nb_features selected variables\n",
    "        DS<-cbind(X_tr[,ranking[1:nb_features],drop=F],damage_grade=Y_tr)\n",
    "        \n",
    "        # Model fit (using lm function)\n",
    "        model<- lm(damage_grade~.,DS)\n",
    "        \n",
    "        # Model prediction\n",
    "        Y_hat_ts<- predict(model,X_ts[,ranking[1:nb_features],drop=F])\n",
    "        \n",
    "        # Cross-validation error = MSE\n",
    "        CV_err[nb_features,i]<-mean((Y_hat_ts-Y_ts)^2)\n",
    "    }\n",
    "}  \n",
    "\n",
    "print(paste(\"#Features: \",c(1:n),\" ; CV error=\",round(apply(CV_err,1,mean),digits=4), \" ; std dev=\",round(apply(CV_err,1,sd),digits=4)))"
   ]
  },
  {
   "cell_type": "code",
   "execution_count": 247,
   "metadata": {
    "vscode": {
     "languageId": "r"
    }
   },
   "outputs": [
    {
     "data": {
      "text/html": [
       "<style>\n",
       ".list-inline {list-style: none; margin:0; padding: 0}\n",
       ".list-inline>li {display: inline-block}\n",
       ".list-inline>li:not(:last-child)::after {content: \"\\00b7\"; padding: 0 .5ex}\n",
       "</style>\n",
       "<ol class=list-inline><li>32</li><li>37</li><li>34</li><li>8</li><li>12</li><li>5</li><li>16</li><li>39</li><li>15</li><li>33</li><li>35</li><li>4</li><li>6</li><li>53</li><li>13</li><li>20</li><li>9</li><li>21</li><li>18</li><li>7</li><li>1</li><li>52</li><li>46</li><li>2</li><li>40</li><li>10</li><li>14</li><li>43</li><li>19</li><li>55</li><li>45</li><li>44</li><li>22</li><li>17</li><li>30</li><li>29</li><li>36</li><li>38</li><li>41</li><li>50</li><li>51</li><li>31</li><li>28</li><li>24</li><li>23</li><li>26</li><li>3</li><li>25</li><li>48</li><li>49</li><li>54</li><li>27</li><li>11</li><li>47</li><li>42</li></ol>\n"
      ],
      "text/latex": [
       "\\begin{enumerate*}\n",
       "\\item 32\n",
       "\\item 37\n",
       "\\item 34\n",
       "\\item 8\n",
       "\\item 12\n",
       "\\item 5\n",
       "\\item 16\n",
       "\\item 39\n",
       "\\item 15\n",
       "\\item 33\n",
       "\\item 35\n",
       "\\item 4\n",
       "\\item 6\n",
       "\\item 53\n",
       "\\item 13\n",
       "\\item 20\n",
       "\\item 9\n",
       "\\item 21\n",
       "\\item 18\n",
       "\\item 7\n",
       "\\item 1\n",
       "\\item 52\n",
       "\\item 46\n",
       "\\item 2\n",
       "\\item 40\n",
       "\\item 10\n",
       "\\item 14\n",
       "\\item 43\n",
       "\\item 19\n",
       "\\item 55\n",
       "\\item 45\n",
       "\\item 44\n",
       "\\item 22\n",
       "\\item 17\n",
       "\\item 30\n",
       "\\item 29\n",
       "\\item 36\n",
       "\\item 38\n",
       "\\item 41\n",
       "\\item 50\n",
       "\\item 51\n",
       "\\item 31\n",
       "\\item 28\n",
       "\\item 24\n",
       "\\item 23\n",
       "\\item 26\n",
       "\\item 3\n",
       "\\item 25\n",
       "\\item 48\n",
       "\\item 49\n",
       "\\item 54\n",
       "\\item 27\n",
       "\\item 11\n",
       "\\item 47\n",
       "\\item 42\n",
       "\\end{enumerate*}\n"
      ],
      "text/markdown": [
       "1. 32\n",
       "2. 37\n",
       "3. 34\n",
       "4. 8\n",
       "5. 12\n",
       "6. 5\n",
       "7. 16\n",
       "8. 39\n",
       "9. 15\n",
       "10. 33\n",
       "11. 35\n",
       "12. 4\n",
       "13. 6\n",
       "14. 53\n",
       "15. 13\n",
       "16. 20\n",
       "17. 9\n",
       "18. 21\n",
       "19. 18\n",
       "20. 7\n",
       "21. 1\n",
       "22. 52\n",
       "23. 46\n",
       "24. 2\n",
       "25. 40\n",
       "26. 10\n",
       "27. 14\n",
       "28. 43\n",
       "29. 19\n",
       "30. 55\n",
       "31. 45\n",
       "32. 44\n",
       "33. 22\n",
       "34. 17\n",
       "35. 30\n",
       "36. 29\n",
       "37. 36\n",
       "38. 38\n",
       "39. 41\n",
       "40. 50\n",
       "41. 51\n",
       "42. 31\n",
       "43. 28\n",
       "44. 24\n",
       "45. 23\n",
       "46. 26\n",
       "47. 3\n",
       "48. 25\n",
       "49. 48\n",
       "50. 49\n",
       "51. 54\n",
       "52. 27\n",
       "53. 11\n",
       "54. 47\n",
       "55. 42\n",
       "\n",
       "\n"
      ],
      "text/plain": [
       " [1] 32 37 34  8 12  5 16 39 15 33 35  4  6 53 13 20  9 21 18  7  1 52 46  2 40\n",
       "[26] 10 14 43 19 55 45 44 22 17 30 29 36 38 41 50 51 31 28 24 23 26  3 25 48 49\n",
       "[51] 54 27 11 47 42"
      ]
     },
     "metadata": {},
     "output_type": "display_data"
    },
    {
     "data": {
      "text/html": [
       "<style>\n",
       ".list-inline {list-style: none; margin:0; padding: 0}\n",
       ".list-inline>li {display: inline-block}\n",
       ".list-inline>li:not(:last-child)::after {content: \"\\00b7\"; padding: 0 .5ex}\n",
       "</style>\n",
       "<ol class=list-inline><li>'foundation_typer'</li><li>'ground_floor_typev'</li><li>'foundation_typew'</li><li>'has_superstructure_mud_mortar_stone'</li><li>'has_superstructure_cement_mortar_brick'</li><li>'age'</li><li>'has_superstructure_rc_engineered'</li><li>'other_floor_typeq'</li><li>'has_superstructure_rc_non_engineered'</li><li>'foundation_typeu'</li><li>'roof_typen'</li><li>'count_floors_pre_eq'</li><li>'area_percentage'</li><li>'legal_ownership_statusa'</li><li>'has_superstructure_timber'</li><li>'has_secondary_use_hotel'</li><li>'has_superstructure_stone_flag'</li><li>'has_secondary_use_rental'</li><li>'count_families'</li><li>'has_superstructure_adobe_mud'</li><li>'geo_level_1_id'</li><li>'plan_configurationu'</li><li>'plan_configurationd'</li><li>'geo_level_2_id'</li><li>'other_floor_typex'</li><li>'has_superstructure_cement_mortar_stone'</li><li>'has_superstructure_bamboo'</li><li>'positiont'</li><li>'has_secondary_use'</li><li>'legal_ownership_statusw'</li><li>'plan_configurationc'</li><li>'plan_configurationa'</li><li>'has_secondary_use_institution'</li><li>'has_superstructure_other'</li><li>'land_surface_conditiont'</li><li>'land_surface_conditiono'</li><li>'ground_floor_typem'</li><li>'ground_floor_typez'</li><li>'positionj'</li><li>'plan_configurationo'</li><li>'plan_configurations'</li><li>'foundation_typeh'</li><li>'has_secondary_use_other'</li><li>'has_secondary_use_industry'</li><li>'has_secondary_use_school'</li><li>'has_secondary_use_gov_office'</li><li>'geo_level_3_id'</li><li>'has_secondary_use_health_post'</li><li>'plan_configurationm'</li><li>'plan_configurationn'</li><li>'legal_ownership_statusr'</li><li>'has_secondary_use_use_police'</li><li>'has_superstructure_mud_mortar_brick'</li><li>'plan_configurationf'</li><li>'positiono'</li></ol>\n"
      ],
      "text/latex": [
       "\\begin{enumerate*}\n",
       "\\item 'foundation\\_typer'\n",
       "\\item 'ground\\_floor\\_typev'\n",
       "\\item 'foundation\\_typew'\n",
       "\\item 'has\\_superstructure\\_mud\\_mortar\\_stone'\n",
       "\\item 'has\\_superstructure\\_cement\\_mortar\\_brick'\n",
       "\\item 'age'\n",
       "\\item 'has\\_superstructure\\_rc\\_engineered'\n",
       "\\item 'other\\_floor\\_typeq'\n",
       "\\item 'has\\_superstructure\\_rc\\_non\\_engineered'\n",
       "\\item 'foundation\\_typeu'\n",
       "\\item 'roof\\_typen'\n",
       "\\item 'count\\_floors\\_pre\\_eq'\n",
       "\\item 'area\\_percentage'\n",
       "\\item 'legal\\_ownership\\_statusa'\n",
       "\\item 'has\\_superstructure\\_timber'\n",
       "\\item 'has\\_secondary\\_use\\_hotel'\n",
       "\\item 'has\\_superstructure\\_stone\\_flag'\n",
       "\\item 'has\\_secondary\\_use\\_rental'\n",
       "\\item 'count\\_families'\n",
       "\\item 'has\\_superstructure\\_adobe\\_mud'\n",
       "\\item 'geo\\_level\\_1\\_id'\n",
       "\\item 'plan\\_configurationu'\n",
       "\\item 'plan\\_configurationd'\n",
       "\\item 'geo\\_level\\_2\\_id'\n",
       "\\item 'other\\_floor\\_typex'\n",
       "\\item 'has\\_superstructure\\_cement\\_mortar\\_stone'\n",
       "\\item 'has\\_superstructure\\_bamboo'\n",
       "\\item 'positiont'\n",
       "\\item 'has\\_secondary\\_use'\n",
       "\\item 'legal\\_ownership\\_statusw'\n",
       "\\item 'plan\\_configurationc'\n",
       "\\item 'plan\\_configurationa'\n",
       "\\item 'has\\_secondary\\_use\\_institution'\n",
       "\\item 'has\\_superstructure\\_other'\n",
       "\\item 'land\\_surface\\_conditiont'\n",
       "\\item 'land\\_surface\\_conditiono'\n",
       "\\item 'ground\\_floor\\_typem'\n",
       "\\item 'ground\\_floor\\_typez'\n",
       "\\item 'positionj'\n",
       "\\item 'plan\\_configurationo'\n",
       "\\item 'plan\\_configurations'\n",
       "\\item 'foundation\\_typeh'\n",
       "\\item 'has\\_secondary\\_use\\_other'\n",
       "\\item 'has\\_secondary\\_use\\_industry'\n",
       "\\item 'has\\_secondary\\_use\\_school'\n",
       "\\item 'has\\_secondary\\_use\\_gov\\_office'\n",
       "\\item 'geo\\_level\\_3\\_id'\n",
       "\\item 'has\\_secondary\\_use\\_health\\_post'\n",
       "\\item 'plan\\_configurationm'\n",
       "\\item 'plan\\_configurationn'\n",
       "\\item 'legal\\_ownership\\_statusr'\n",
       "\\item 'has\\_secondary\\_use\\_use\\_police'\n",
       "\\item 'has\\_superstructure\\_mud\\_mortar\\_brick'\n",
       "\\item 'plan\\_configurationf'\n",
       "\\item 'positiono'\n",
       "\\end{enumerate*}\n"
      ],
      "text/markdown": [
       "1. 'foundation_typer'\n",
       "2. 'ground_floor_typev'\n",
       "3. 'foundation_typew'\n",
       "4. 'has_superstructure_mud_mortar_stone'\n",
       "5. 'has_superstructure_cement_mortar_brick'\n",
       "6. 'age'\n",
       "7. 'has_superstructure_rc_engineered'\n",
       "8. 'other_floor_typeq'\n",
       "9. 'has_superstructure_rc_non_engineered'\n",
       "10. 'foundation_typeu'\n",
       "11. 'roof_typen'\n",
       "12. 'count_floors_pre_eq'\n",
       "13. 'area_percentage'\n",
       "14. 'legal_ownership_statusa'\n",
       "15. 'has_superstructure_timber'\n",
       "16. 'has_secondary_use_hotel'\n",
       "17. 'has_superstructure_stone_flag'\n",
       "18. 'has_secondary_use_rental'\n",
       "19. 'count_families'\n",
       "20. 'has_superstructure_adobe_mud'\n",
       "21. 'geo_level_1_id'\n",
       "22. 'plan_configurationu'\n",
       "23. 'plan_configurationd'\n",
       "24. 'geo_level_2_id'\n",
       "25. 'other_floor_typex'\n",
       "26. 'has_superstructure_cement_mortar_stone'\n",
       "27. 'has_superstructure_bamboo'\n",
       "28. 'positiont'\n",
       "29. 'has_secondary_use'\n",
       "30. 'legal_ownership_statusw'\n",
       "31. 'plan_configurationc'\n",
       "32. 'plan_configurationa'\n",
       "33. 'has_secondary_use_institution'\n",
       "34. 'has_superstructure_other'\n",
       "35. 'land_surface_conditiont'\n",
       "36. 'land_surface_conditiono'\n",
       "37. 'ground_floor_typem'\n",
       "38. 'ground_floor_typez'\n",
       "39. 'positionj'\n",
       "40. 'plan_configurationo'\n",
       "41. 'plan_configurations'\n",
       "42. 'foundation_typeh'\n",
       "43. 'has_secondary_use_other'\n",
       "44. 'has_secondary_use_industry'\n",
       "45. 'has_secondary_use_school'\n",
       "46. 'has_secondary_use_gov_office'\n",
       "47. 'geo_level_3_id'\n",
       "48. 'has_secondary_use_health_post'\n",
       "49. 'plan_configurationm'\n",
       "50. 'plan_configurationn'\n",
       "51. 'legal_ownership_statusr'\n",
       "52. 'has_secondary_use_use_police'\n",
       "53. 'has_superstructure_mud_mortar_brick'\n",
       "54. 'plan_configurationf'\n",
       "55. 'positiono'\n",
       "\n",
       "\n"
      ],
      "text/plain": [
       " [1] \"foundation_typer\"                      \n",
       " [2] \"ground_floor_typev\"                    \n",
       " [3] \"foundation_typew\"                      \n",
       " [4] \"has_superstructure_mud_mortar_stone\"   \n",
       " [5] \"has_superstructure_cement_mortar_brick\"\n",
       " [6] \"age\"                                   \n",
       " [7] \"has_superstructure_rc_engineered\"      \n",
       " [8] \"other_floor_typeq\"                     \n",
       " [9] \"has_superstructure_rc_non_engineered\"  \n",
       "[10] \"foundation_typeu\"                      \n",
       "[11] \"roof_typen\"                            \n",
       "[12] \"count_floors_pre_eq\"                   \n",
       "[13] \"area_percentage\"                       \n",
       "[14] \"legal_ownership_statusa\"               \n",
       "[15] \"has_superstructure_timber\"             \n",
       "[16] \"has_secondary_use_hotel\"               \n",
       "[17] \"has_superstructure_stone_flag\"         \n",
       "[18] \"has_secondary_use_rental\"              \n",
       "[19] \"count_families\"                        \n",
       "[20] \"has_superstructure_adobe_mud\"          \n",
       "[21] \"geo_level_1_id\"                        \n",
       "[22] \"plan_configurationu\"                   \n",
       "[23] \"plan_configurationd\"                   \n",
       "[24] \"geo_level_2_id\"                        \n",
       "[25] \"other_floor_typex\"                     \n",
       "[26] \"has_superstructure_cement_mortar_stone\"\n",
       "[27] \"has_superstructure_bamboo\"             \n",
       "[28] \"positiont\"                             \n",
       "[29] \"has_secondary_use\"                     \n",
       "[30] \"legal_ownership_statusw\"               \n",
       "[31] \"plan_configurationc\"                   \n",
       "[32] \"plan_configurationa\"                   \n",
       "[33] \"has_secondary_use_institution\"         \n",
       "[34] \"has_superstructure_other\"              \n",
       "[35] \"land_surface_conditiont\"               \n",
       "[36] \"land_surface_conditiono\"               \n",
       "[37] \"ground_floor_typem\"                    \n",
       "[38] \"ground_floor_typez\"                    \n",
       "[39] \"positionj\"                             \n",
       "[40] \"plan_configurationo\"                   \n",
       "[41] \"plan_configurations\"                   \n",
       "[42] \"foundation_typeh\"                      \n",
       "[43] \"has_secondary_use_other\"               \n",
       "[44] \"has_secondary_use_industry\"            \n",
       "[45] \"has_secondary_use_school\"              \n",
       "[46] \"has_secondary_use_gov_office\"          \n",
       "[47] \"geo_level_3_id\"                        \n",
       "[48] \"has_secondary_use_health_post\"         \n",
       "[49] \"plan_configurationm\"                   \n",
       "[50] \"plan_configurationn\"                   \n",
       "[51] \"legal_ownership_statusr\"               \n",
       "[52] \"has_secondary_use_use_police\"          \n",
       "[53] \"has_superstructure_mud_mortar_brick\"   \n",
       "[54] \"plan_configurationf\"                   \n",
       "[55] \"positiono\"                             "
      ]
     },
     "metadata": {},
     "output_type": "display_data"
    }
   ],
   "source": [
    "NuF2 <- selected\n",
    "NaF2 <- colnames(X)[selected]\n",
    "NuF2\n",
    "NaF2"
   ]
  },
  {
   "attachments": {},
   "cell_type": "markdown",
   "metadata": {},
   "source": []
  },
  {
   "cell_type": "code",
   "execution_count": 249,
   "metadata": {
    "vscode": {
     "languageId": "r"
    }
   },
   "outputs": [],
   "source": [
    "NaF2 <- 34\n",
    "selected_features <- ranking[1:NaF2] \n",
    "\n",
    "New_Train <- trainCleanedD[, selected_features, drop = FALSE]\n",
    "\n",
    "# Ajoutez la variable cible si nécessaire\n",
    "New_Train <- cbind(New_Train, damage_grade = Y)\n"
   ]
  },
  {
   "cell_type": "code",
   "execution_count": 162,
   "metadata": {
    "vscode": {
     "languageId": "r"
    }
   },
   "outputs": [],
   "source": [
    "NaF2 <- 16\n",
    "selected_features <- ranking[1:NaF2] \n",
    "\n",
    "New_TrainT <- trainCleanedDT[, selected_features, drop = FALSE]\n"
   ]
  },
  {
   "cell_type": "code",
   "execution_count": null,
   "metadata": {
    "vscode": {
     "languageId": "r"
    }
   },
   "outputs": [],
   "source": []
  },
  {
   "cell_type": "code",
   "execution_count": 250,
   "metadata": {
    "vscode": {
     "languageId": "r"
    }
   },
   "outputs": [
    {
     "data": {
      "text/html": [
       "<table class=\"dataframe\">\n",
       "<caption>A data.frame: 6 x 35</caption>\n",
       "<thead>\n",
       "\t<tr><th></th><th scope=col>foundation_typer</th><th scope=col>ground_floor_typev</th><th scope=col>foundation_typew</th><th scope=col>has_superstructure_mud_mortar_stone</th><th scope=col>has_superstructure_cement_mortar_brick</th><th scope=col>age</th><th scope=col>has_superstructure_rc_engineered</th><th scope=col>other_floor_typeq</th><th scope=col>has_superstructure_rc_non_engineered</th><th scope=col>foundation_typeu</th><th scope=col>...</th><th scope=col>has_superstructure_cement_mortar_stone</th><th scope=col>has_superstructure_bamboo</th><th scope=col>positiont</th><th scope=col>has_secondary_use</th><th scope=col>legal_ownership_statusw</th><th scope=col>plan_configurationc</th><th scope=col>plan_configurationa</th><th scope=col>has_secondary_use_institution</th><th scope=col>has_superstructure_other</th><th scope=col>damage_grade</th></tr>\n",
       "\t<tr><th></th><th scope=col>&lt;dbl&gt;</th><th scope=col>&lt;dbl&gt;</th><th scope=col>&lt;dbl&gt;</th><th scope=col>&lt;int&gt;</th><th scope=col>&lt;int&gt;</th><th scope=col>&lt;dbl&gt;</th><th scope=col>&lt;int&gt;</th><th scope=col>&lt;dbl&gt;</th><th scope=col>&lt;int&gt;</th><th scope=col>&lt;dbl&gt;</th><th scope=col>...</th><th scope=col>&lt;int&gt;</th><th scope=col>&lt;int&gt;</th><th scope=col>&lt;dbl&gt;</th><th scope=col>&lt;int&gt;</th><th scope=col>&lt;dbl&gt;</th><th scope=col>&lt;dbl&gt;</th><th scope=col>&lt;dbl&gt;</th><th scope=col>&lt;int&gt;</th><th scope=col>&lt;int&gt;</th><th scope=col>&lt;int&gt;</th></tr>\n",
       "</thead>\n",
       "<tbody>\n",
       "\t<tr><th scope=row>1</th><td>1</td><td>0</td><td>0</td><td>1</td><td>0</td><td>30</td><td>0</td><td>1</td><td>0</td><td>0</td><td>...</td><td>0</td><td>0</td><td>1</td><td>0</td><td>0</td><td>0</td><td>0</td><td>0</td><td>0</td><td>3</td></tr>\n",
       "\t<tr><th scope=row>2</th><td>1</td><td>0</td><td>0</td><td>1</td><td>0</td><td>10</td><td>0</td><td>1</td><td>0</td><td>0</td><td>...</td><td>0</td><td>0</td><td>0</td><td>0</td><td>0</td><td>0</td><td>0</td><td>0</td><td>0</td><td>2</td></tr>\n",
       "\t<tr><th scope=row>3</th><td>1</td><td>0</td><td>0</td><td>1</td><td>0</td><td>10</td><td>0</td><td>0</td><td>0</td><td>0</td><td>...</td><td>0</td><td>0</td><td>1</td><td>0</td><td>0</td><td>0</td><td>0</td><td>0</td><td>0</td><td>3</td></tr>\n",
       "\t<tr><th scope=row>4</th><td>1</td><td>0</td><td>0</td><td>1</td><td>0</td><td>10</td><td>0</td><td>0</td><td>0</td><td>0</td><td>...</td><td>0</td><td>1</td><td>0</td><td>0</td><td>0</td><td>0</td><td>0</td><td>0</td><td>0</td><td>2</td></tr>\n",
       "\t<tr><th scope=row>5</th><td>1</td><td>0</td><td>0</td><td>0</td><td>0</td><td>30</td><td>0</td><td>0</td><td>0</td><td>0</td><td>...</td><td>0</td><td>0</td><td>0</td><td>0</td><td>0</td><td>0</td><td>0</td><td>0</td><td>0</td><td>3</td></tr>\n",
       "\t<tr><th scope=row>6</th><td>1</td><td>0</td><td>0</td><td>1</td><td>0</td><td>10</td><td>0</td><td>1</td><td>0</td><td>0</td><td>...</td><td>0</td><td>0</td><td>0</td><td>1</td><td>0</td><td>0</td><td>0</td><td>0</td><td>0</td><td>2</td></tr>\n",
       "</tbody>\n",
       "</table>\n"
      ],
      "text/latex": [
       "A data.frame: 6 x 35\n",
       "\\begin{tabular}{r|lllllllllllllllllllll}\n",
       "  & foundation\\_typer & ground\\_floor\\_typev & foundation\\_typew & has\\_superstructure\\_mud\\_mortar\\_stone & has\\_superstructure\\_cement\\_mortar\\_brick & age & has\\_superstructure\\_rc\\_engineered & other\\_floor\\_typeq & has\\_superstructure\\_rc\\_non\\_engineered & foundation\\_typeu & ... & has\\_superstructure\\_cement\\_mortar\\_stone & has\\_superstructure\\_bamboo & positiont & has\\_secondary\\_use & legal\\_ownership\\_statusw & plan\\_configurationc & plan\\_configurationa & has\\_secondary\\_use\\_institution & has\\_superstructure\\_other & damage\\_grade\\\\\n",
       "  & <dbl> & <dbl> & <dbl> & <int> & <int> & <dbl> & <int> & <dbl> & <int> & <dbl> & ... & <int> & <int> & <dbl> & <int> & <dbl> & <dbl> & <dbl> & <int> & <int> & <int>\\\\\n",
       "\\hline\n",
       "\t1 & 1 & 0 & 0 & 1 & 0 & 30 & 0 & 1 & 0 & 0 & ... & 0 & 0 & 1 & 0 & 0 & 0 & 0 & 0 & 0 & 3\\\\\n",
       "\t2 & 1 & 0 & 0 & 1 & 0 & 10 & 0 & 1 & 0 & 0 & ... & 0 & 0 & 0 & 0 & 0 & 0 & 0 & 0 & 0 & 2\\\\\n",
       "\t3 & 1 & 0 & 0 & 1 & 0 & 10 & 0 & 0 & 0 & 0 & ... & 0 & 0 & 1 & 0 & 0 & 0 & 0 & 0 & 0 & 3\\\\\n",
       "\t4 & 1 & 0 & 0 & 1 & 0 & 10 & 0 & 0 & 0 & 0 & ... & 0 & 1 & 0 & 0 & 0 & 0 & 0 & 0 & 0 & 2\\\\\n",
       "\t5 & 1 & 0 & 0 & 0 & 0 & 30 & 0 & 0 & 0 & 0 & ... & 0 & 0 & 0 & 0 & 0 & 0 & 0 & 0 & 0 & 3\\\\\n",
       "\t6 & 1 & 0 & 0 & 1 & 0 & 10 & 0 & 1 & 0 & 0 & ... & 0 & 0 & 0 & 1 & 0 & 0 & 0 & 0 & 0 & 2\\\\\n",
       "\\end{tabular}\n"
      ],
      "text/markdown": [
       "\n",
       "A data.frame: 6 x 35\n",
       "\n",
       "| <!--/--> | foundation_typer &lt;dbl&gt; | ground_floor_typev &lt;dbl&gt; | foundation_typew &lt;dbl&gt; | has_superstructure_mud_mortar_stone &lt;int&gt; | has_superstructure_cement_mortar_brick &lt;int&gt; | age &lt;dbl&gt; | has_superstructure_rc_engineered &lt;int&gt; | other_floor_typeq &lt;dbl&gt; | has_superstructure_rc_non_engineered &lt;int&gt; | foundation_typeu &lt;dbl&gt; | ... ... | has_superstructure_cement_mortar_stone &lt;int&gt; | has_superstructure_bamboo &lt;int&gt; | positiont &lt;dbl&gt; | has_secondary_use &lt;int&gt; | legal_ownership_statusw &lt;dbl&gt; | plan_configurationc &lt;dbl&gt; | plan_configurationa &lt;dbl&gt; | has_secondary_use_institution &lt;int&gt; | has_superstructure_other &lt;int&gt; | damage_grade &lt;int&gt; |\n",
       "|---|---|---|---|---|---|---|---|---|---|---|---|---|---|---|---|---|---|---|---|---|---|\n",
       "| 1 | 1 | 0 | 0 | 1 | 0 | 30 | 0 | 1 | 0 | 0 | ... | 0 | 0 | 1 | 0 | 0 | 0 | 0 | 0 | 0 | 3 |\n",
       "| 2 | 1 | 0 | 0 | 1 | 0 | 10 | 0 | 1 | 0 | 0 | ... | 0 | 0 | 0 | 0 | 0 | 0 | 0 | 0 | 0 | 2 |\n",
       "| 3 | 1 | 0 | 0 | 1 | 0 | 10 | 0 | 0 | 0 | 0 | ... | 0 | 0 | 1 | 0 | 0 | 0 | 0 | 0 | 0 | 3 |\n",
       "| 4 | 1 | 0 | 0 | 1 | 0 | 10 | 0 | 0 | 0 | 0 | ... | 0 | 1 | 0 | 0 | 0 | 0 | 0 | 0 | 0 | 2 |\n",
       "| 5 | 1 | 0 | 0 | 0 | 0 | 30 | 0 | 0 | 0 | 0 | ... | 0 | 0 | 0 | 0 | 0 | 0 | 0 | 0 | 0 | 3 |\n",
       "| 6 | 1 | 0 | 0 | 1 | 0 | 10 | 0 | 1 | 0 | 0 | ... | 0 | 0 | 0 | 1 | 0 | 0 | 0 | 0 | 0 | 2 |\n",
       "\n"
      ],
      "text/plain": [
       "  foundation_typer ground_floor_typev foundation_typew\n",
       "1 1                0                  0               \n",
       "2 1                0                  0               \n",
       "3 1                0                  0               \n",
       "4 1                0                  0               \n",
       "5 1                0                  0               \n",
       "6 1                0                  0               \n",
       "  has_superstructure_mud_mortar_stone has_superstructure_cement_mortar_brick\n",
       "1 1                                   0                                     \n",
       "2 1                                   0                                     \n",
       "3 1                                   0                                     \n",
       "4 1                                   0                                     \n",
       "5 0                                   0                                     \n",
       "6 1                                   0                                     \n",
       "  age has_superstructure_rc_engineered other_floor_typeq\n",
       "1 30  0                                1                \n",
       "2 10  0                                1                \n",
       "3 10  0                                0                \n",
       "4 10  0                                0                \n",
       "5 30  0                                0                \n",
       "6 10  0                                1                \n",
       "  has_superstructure_rc_non_engineered foundation_typeu ...\n",
       "1 0                                    0                ...\n",
       "2 0                                    0                ...\n",
       "3 0                                    0                ...\n",
       "4 0                                    0                ...\n",
       "5 0                                    0                ...\n",
       "6 0                                    0                ...\n",
       "  has_superstructure_cement_mortar_stone has_superstructure_bamboo positiont\n",
       "1 0                                      0                         1        \n",
       "2 0                                      0                         0        \n",
       "3 0                                      0                         1        \n",
       "4 0                                      1                         0        \n",
       "5 0                                      0                         0        \n",
       "6 0                                      0                         0        \n",
       "  has_secondary_use legal_ownership_statusw plan_configurationc\n",
       "1 0                 0                       0                  \n",
       "2 0                 0                       0                  \n",
       "3 0                 0                       0                  \n",
       "4 0                 0                       0                  \n",
       "5 0                 0                       0                  \n",
       "6 1                 0                       0                  \n",
       "  plan_configurationa has_secondary_use_institution has_superstructure_other\n",
       "1 0                   0                             0                       \n",
       "2 0                   0                             0                       \n",
       "3 0                   0                             0                       \n",
       "4 0                   0                             0                       \n",
       "5 0                   0                             0                       \n",
       "6 0                   0                             0                       \n",
       "  damage_grade\n",
       "1 3           \n",
       "2 2           \n",
       "3 3           \n",
       "4 2           \n",
       "5 3           \n",
       "6 2           "
      ]
     },
     "metadata": {},
     "output_type": "display_data"
    }
   ],
   "source": [
    "head(New_Train)"
   ]
  },
  {
   "cell_type": "code",
   "execution_count": null,
   "metadata": {
    "vscode": {
     "languageId": "r"
    }
   },
   "outputs": [],
   "source": [
    "X<-New_Train[,setdiff(colnames(New_Train),\"damage_grade\")]\n",
    "Y<-New_Train[,\"damage_grade\"]\n",
    "\n",
    "\n",
    "N <-nrow(X)\n",
    "n <-ncol(X)"
   ]
  },
  {
   "attachments": {},
   "cell_type": "markdown",
   "metadata": {},
   "source": [
    "## QUESTION 2"
   ]
  },
  {
   "cell_type": "code",
   "execution_count": 251,
   "metadata": {
    "vscode": {
     "languageId": "r"
    }
   },
   "outputs": [],
   "source": [
    "# from https://pastebin.com/b6WufBNq\n",
    "\n",
    "ConfusionMatrix <- function(y_pred, y_true) {\n",
    "  Confusion_Mat <- table(y_true, y_pred)\n",
    "  return(Confusion_Mat)\n",
    "}\n",
    " \n",
    "ConfusionDF <- function(y_pred, y_true) {\n",
    "  Confusion_DF <- transform(as.data.frame(ConfusionMatrix(y_pred, y_true)),\n",
    "                            y_true = as.character(y_true),\n",
    "                            y_pred = as.character(y_pred),\n",
    "                            Freq = as.integer(Freq))\n",
    "  return(Confusion_DF)\n",
    "}\n",
    " \n",
    "Precision_micro <- function(y_true, y_pred, labels = NULL) {\n",
    "  Confusion_DF <- ConfusionDF(y_pred, y_true)\n",
    " \n",
    "  if (is.null(labels) == TRUE) labels <- unique(c(y_true, y_pred))\n",
    "  # this is not bulletproof since there might be labels missing (in strange cases)\n",
    "  # in strange cases where they existed in training set but are missing from test ground truth and predictions.\n",
    " \n",
    "  TP <- c()\n",
    "  FP <- c()\n",
    "  for (i in c(1:length(labels))) {\n",
    "    positive <- labels[i]\n",
    "   \n",
    "    # it may happen that a label is never predicted (missing from y_pred) but exists in y_true\n",
    "    # in this case ConfusionDF will not have these lines and thus the simplified code crashes\n",
    "    # TP[i] <- as.integer(Confusion_DF[which(Confusion_DF$y_true==positive & Confusion_DF$y_pred==positive), \"Freq\"])\n",
    "    # FP[i] <- as.integer(sum(Confusion_DF[which(Confusion_DF$y_true!=positive & Confusion_DF$y_pred==positive), \"Freq\"]))\n",
    "   \n",
    "    # workaround:\n",
    "    # i don't want to change ConfusionDF since i don't know if the current behaviour is a feature or a bug.\n",
    "    tmp <- Confusion_DF[which(Confusion_DF$y_true==positive & Confusion_DF$y_pred==positive), \"Freq\"]\n",
    "    TP[i] <- if (length(tmp)==0) 0 else as.integer(tmp)\n",
    "   \n",
    "    tmp <- Confusion_DF[which(Confusion_DF$y_true!=positive & Confusion_DF$y_pred==positive), \"Freq\"]\n",
    "    FP[i] <- if (length(tmp)==0) 0 else as.integer(sum(tmp))\n",
    "  }\n",
    "  Precision_micro <- sum(TP) / (sum(TP) + sum(FP))\n",
    "  return(Precision_micro)\n",
    "}\n",
    " \n",
    "Recall_micro <- function(y_true, y_pred, labels = NULL) {\n",
    "  Confusion_DF <- ConfusionDF(y_pred, y_true)\n",
    " \n",
    "  if (is.null(labels) == TRUE) labels <- unique(c(y_true, y_pred))\n",
    "  # this is not bulletproof since there might be labels missing (in strange cases)\n",
    "  # in strange cases where they existed in training set but are missing from test ground truth and predictions.\n",
    " \n",
    "  TP <- c()\n",
    "  FN <- c()\n",
    "  for (i in c(1:length(labels))) {\n",
    "    positive <- labels[i]\n",
    "   \n",
    "    # short version, comment out due to bug or feature of Confusion_DF\n",
    "    # TP[i] <- as.integer(Confusion_DF[which(Confusion_DF$y_true==positive & Confusion_DF$y_pred==positive), \"Freq\"])\n",
    "    # FP[i] <- as.integer(sum(Confusion_DF[which(Confusion_DF$y_true==positive & Confusion_DF$y_pred!=positive), \"Freq\"]))\n",
    "   \n",
    "    # workaround:\n",
    "    tmp <- Confusion_DF[which(Confusion_DF$y_true==positive & Confusion_DF$y_pred==positive), \"Freq\"]\n",
    "    TP[i] <- if (length(tmp)==0) 0 else as.integer(tmp)\n",
    " \n",
    "    tmp <- Confusion_DF[which(Confusion_DF$y_true==positive & Confusion_DF$y_pred!=positive), \"Freq\"]\n",
    "    FN[i] <- if (length(tmp)==0) 0 else as.integer(sum(tmp))\n",
    "  }\n",
    "  Recall_micro <- sum(TP) / (sum(TP) + sum(FN))\n",
    "  return(Recall_micro)\n",
    "}\n",
    " \n",
    "F1_Score_micro <- function(y_true, y_pred, labels = NULL) {\n",
    "  if (is.null(labels) == TRUE) labels <- unique(c(y_true, y_pred)) # possible problems if labels are missing from y_*\n",
    "  Precision <- Precision_micro(y_true, y_pred, labels)\n",
    "  Recall <- Recall_micro(y_true, y_pred, labels)\n",
    "  F1_Score_micro <- 2 * (Precision * Recall) / (Precision + Recall)\n",
    "  return(F1_Score_micro)\n",
    "}"
   ]
  },
  {
   "attachments": {},
   "cell_type": "markdown",
   "metadata": {},
   "source": [
    "MODEL 1 : Decision Tree"
   ]
  },
  {
   "cell_type": "code",
   "execution_count": 290,
   "metadata": {
    "vscode": {
     "languageId": "r"
    }
   },
   "outputs": [],
   "source": [
    "set.seed(10)"
   ]
  },
  {
   "cell_type": "code",
   "execution_count": 292,
   "metadata": {
    "vscode": {
     "languageId": "r"
    }
   },
   "outputs": [],
   "source": [
    "DTM <- New_Train"
   ]
  },
  {
   "cell_type": "code",
   "execution_count": 291,
   "metadata": {
    "vscode": {
     "languageId": "r"
    }
   },
   "outputs": [
    {
     "name": "stdout",
     "output_type": "stream",
     "text": [
      "[1] \"Training Set Size :  156360 Test set Size :  104241\"\n"
     ]
    },
    {
     "data": {
      "text/html": [
       "<table class=\"dataframe\">\n",
       "<caption>A data.frame: 16 x 1</caption>\n",
       "<thead>\n",
       "\t<tr><th></th><th scope=col>model.variable.importance</th></tr>\n",
       "\t<tr><th></th><th scope=col>&lt;dbl&gt;</th></tr>\n",
       "</thead>\n",
       "<tbody>\n",
       "\t<tr><th scope=row>geo_level_1_id</th><td>8175.22368</td></tr>\n",
       "\t<tr><th scope=row>foundation_typer</th><td>3411.24049</td></tr>\n",
       "\t<tr><th scope=row>foundation_typew</th><td>1246.04175</td></tr>\n",
       "\t<tr><th scope=row>foundation_typeu</th><td>1177.80318</td></tr>\n",
       "\t<tr><th scope=row>ground_floor_typev</th><td>1017.00657</td></tr>\n",
       "\t<tr><th scope=row>has_superstructure_cement_mortar_brick</th><td> 636.42758</td></tr>\n",
       "\t<tr><th scope=row>geo_level_2_id</th><td> 377.22388</td></tr>\n",
       "\t<tr><th scope=row>has_superstructure_rc_engineered</th><td> 329.12338</td></tr>\n",
       "\t<tr><th scope=row>has_superstructure_timber</th><td> 319.46450</td></tr>\n",
       "\t<tr><th scope=row>has_superstructure_bamboo</th><td> 230.07041</td></tr>\n",
       "\t<tr><th scope=row>positiont</th><td> 158.89154</td></tr>\n",
       "\t<tr><th scope=row>roof_typen</th><td> 152.12420</td></tr>\n",
       "\t<tr><th scope=row>area_percentage</th><td> 121.67116</td></tr>\n",
       "\t<tr><th scope=row>has_superstructure_mud_mortar_stone</th><td> 114.34941</td></tr>\n",
       "\t<tr><th scope=row>count_floors_pre_eq</th><td>  32.99041</td></tr>\n",
       "\t<tr><th scope=row>legal_ownership_statusw</th><td>  19.81143</td></tr>\n",
       "</tbody>\n",
       "</table>\n"
      ],
      "text/latex": [
       "A data.frame: 16 x 1\n",
       "\\begin{tabular}{r|l}\n",
       "  & model.variable.importance\\\\\n",
       "  & <dbl>\\\\\n",
       "\\hline\n",
       "\tgeo\\_level\\_1\\_id & 8175.22368\\\\\n",
       "\tfoundation\\_typer & 3411.24049\\\\\n",
       "\tfoundation\\_typew & 1246.04175\\\\\n",
       "\tfoundation\\_typeu & 1177.80318\\\\\n",
       "\tground\\_floor\\_typev & 1017.00657\\\\\n",
       "\thas\\_superstructure\\_cement\\_mortar\\_brick &  636.42758\\\\\n",
       "\tgeo\\_level\\_2\\_id &  377.22388\\\\\n",
       "\thas\\_superstructure\\_rc\\_engineered &  329.12338\\\\\n",
       "\thas\\_superstructure\\_timber &  319.46450\\\\\n",
       "\thas\\_superstructure\\_bamboo &  230.07041\\\\\n",
       "\tpositiont &  158.89154\\\\\n",
       "\troof\\_typen &  152.12420\\\\\n",
       "\tarea\\_percentage &  121.67116\\\\\n",
       "\thas\\_superstructure\\_mud\\_mortar\\_stone &  114.34941\\\\\n",
       "\tcount\\_floors\\_pre\\_eq &   32.99041\\\\\n",
       "\tlegal\\_ownership\\_statusw &   19.81143\\\\\n",
       "\\end{tabular}\n"
      ],
      "text/markdown": [
       "\n",
       "A data.frame: 16 x 1\n",
       "\n",
       "| <!--/--> | model.variable.importance &lt;dbl&gt; |\n",
       "|---|---|\n",
       "| geo_level_1_id | 8175.22368 |\n",
       "| foundation_typer | 3411.24049 |\n",
       "| foundation_typew | 1246.04175 |\n",
       "| foundation_typeu | 1177.80318 |\n",
       "| ground_floor_typev | 1017.00657 |\n",
       "| has_superstructure_cement_mortar_brick |  636.42758 |\n",
       "| geo_level_2_id |  377.22388 |\n",
       "| has_superstructure_rc_engineered |  329.12338 |\n",
       "| has_superstructure_timber |  319.46450 |\n",
       "| has_superstructure_bamboo |  230.07041 |\n",
       "| positiont |  158.89154 |\n",
       "| roof_typen |  152.12420 |\n",
       "| area_percentage |  121.67116 |\n",
       "| has_superstructure_mud_mortar_stone |  114.34941 |\n",
       "| count_floors_pre_eq |   32.99041 |\n",
       "| legal_ownership_statusw |   19.81143 |\n",
       "\n"
      ],
      "text/plain": [
       "                                       model.variable.importance\n",
       "geo_level_1_id                         8175.22368               \n",
       "foundation_typer                       3411.24049               \n",
       "foundation_typew                       1246.04175               \n",
       "foundation_typeu                       1177.80318               \n",
       "ground_floor_typev                     1017.00657               \n",
       "has_superstructure_cement_mortar_brick  636.42758               \n",
       "geo_level_2_id                          377.22388               \n",
       "has_superstructure_rc_engineered        329.12338               \n",
       "has_superstructure_timber               319.46450               \n",
       "has_superstructure_bamboo               230.07041               \n",
       "positiont                               158.89154               \n",
       "roof_typen                              152.12420               \n",
       "area_percentage                         121.67116               \n",
       "has_superstructure_mud_mortar_stone     114.34941               \n",
       "count_floors_pre_eq                      32.99041               \n",
       "legal_ownership_statusw                  19.81143               "
      ]
     },
     "metadata": {},
     "output_type": "display_data"
    },
    {
     "name": "stdout",
     "output_type": "stream",
     "text": [
      "[1] \"F1 Score: 0.607937375888566\"\n",
      "[1] \"Misclassification_rate On Damage Grade Prediction =  0.392062624111434\"\n",
      "[1] \"Accuracy On Damage Grade Prediction =  0.607937375888566\"\n"
     ]
    },
    {
     "data": {
      "image/png": "[encoded data removed]",
      "text/plain": [
       "plot without title"
      ]
     },
     "metadata": {
      "image/png": {
       "height": 420,
       "width": 420
      }
     },
     "output_type": "display_data"
    }
   ],
   "source": [
    "shuffled_index <- sample(1:nrow(DTM))\n",
    "train_data_idx <- sample(1:nrow(DTM), floor(0.6 * nrow(DTM)))\n",
    "train_data <- DTM[train_data_idx, ]\n",
    "test_data <- DTM[-train_data_idx, ]\n",
    "print(paste(\"Training Set Size : \",nrow(train_data) ,\"Test set Size : \",nrow(test_data) ))\n",
    "model <- rpart(damage_grade ~ . , method=\"class\", data=train_data)\n",
    "data.frame(model$variable.importance)\n",
    "rpart.plot(model, type=1 , fallen.leaves = F ,cex =0.9)\n",
    "Y_pred_probs <- predict(model, test_data[,-ncol(test_data)], type = \"prob\")\n",
    "Y <- test_data[,ncol(test_data)]\n",
    "Y_pred <- ifelse(Y_pred_probs[,1] > 0.3, \"1\", \n",
    "            ifelse(Y_pred_probs[,2] > 0.5, \"2\", \"3\"))\n",
    "confusion_matrix <- table(Y_pred, Y)\n",
    "Y_pred <- as.factor(Y_pred)\n",
    "Y <- as.factor(Y)\n",
    "f1_score <- F1_Score_micro(Y, Y_pred)\n",
    "print(paste(\"F1 Score:\", f1_score))\n",
    "accuracy = sum(diag(confusion_matrix))/sum(confusion_matrix)\n",
    "misclassification_rate = 1 - accuracy\n",
    "print(paste(\"Misclassification_rate On Damage Grade Prediction = \" , misclassification_rate))\n",
    "print(paste( \"Accuracy On Damage Grade Prediction = \" , accuracy))"
   ]
  },
  {
   "attachments": {},
   "cell_type": "markdown",
   "metadata": {},
   "source": [
    "MODEL 2 : Random Forest\n"
   ]
  },
  {
   "cell_type": "code",
   "execution_count": 294,
   "metadata": {
    "vscode": {
     "languageId": "r"
    }
   },
   "outputs": [
    {
     "name": "stdout",
     "output_type": "stream",
     "text": [
      "\n",
      "Les packages binaires t'el'echarg'es sont dans\n",
      "\t/var/folders/7j/n3q0pxkj3fvc8pf6rq5cpq680000gn/T//RtmpvzmHz1/downloaded_packages\n"
     ]
    }
   ],
   "source": [
    "install.packages(\"randomForest\")\n",
    "library(\"randomForest\")"
   ]
  },
  {
   "cell_type": "code",
   "execution_count": 293,
   "metadata": {
    "vscode": {
     "languageId": "r"
    }
   },
   "outputs": [],
   "source": [
    "set.seed(11)"
   ]
  },
  {
   "cell_type": "code",
   "execution_count": 295,
   "metadata": {
    "vscode": {
     "languageId": "r"
    }
   },
   "outputs": [],
   "source": [
    "RFM <- New_Train"
   ]
  },
  {
   "cell_type": "code",
   "execution_count": 296,
   "metadata": {
    "vscode": {
     "languageId": "r"
    }
   },
   "outputs": [],
   "source": [
    "n_trees <- 70\n",
    "accuracy_vec <- rep(0, n_trees)\n",
    "f1_score_vec <- rep(0, n_trees)\n",
    "\n",
    "class_weights <- table(RFM$damage_grade) / nrow(RFM)  # Computation of class weights\n",
    "\n",
    "for (i in 1:n_trees) {\n",
    "  # Creation of training and test sets\n",
    "  train_data_idx <- sample(1:nrow(RFM), floor(0.7 * nrow(RFM)))\n",
    "  train_data <- RFM[train_data_idx, ]\n",
    "  test_data <- RFM[-train_data_idx, ]\n",
    "  \n",
    "  # Random forest model\n",
    "  model <- randomForest(\n",
    "    x = train_data[, -which(names(train_data) == \"damage_grade\")],\n",
    "    y = as.factor(train_data$damage_grade),\n",
    "    ntree = i,\n",
    "    classwt = class_weights\n",
    "  )\n",
    "  \n",
    "  # Predict part\n",
    "  predictions <- predict(model, newdata = test_data[, -which(names(test_data) == \"damage_grade\")])\n",
    "  \n",
    "  # Accuracy\n",
    "  correct_predictions <- sum(predictions == test_data$damage_grade)\n",
    "  accuracy <- correct_predictions / nrow(test_data)\n",
    "  accuracy_vec[i] <- accuracy\n",
    "  \n",
    "  # F1-score\n",
    "  f1_score <- F1_Score_micro(test_data$damage_grade, predictions)  # Adjust positive class label if needed\n",
    "  f1_score_vec[i] <- f1_score\n",
    "}\n",
    "var_importance <- importance(model)\n",
    "print(var_importance)\n",
    "plot(accuracy_vec, main = \"Number of trees influence\", xlab = \"Number of trees\", ylab = \"Classification rate\")\n",
    "plot(f1_score_vec, main = \"Number of trees influence\", xlab = \"Number of trees\", ylab = \"F1-score\")\n",
    "print(paste(\"F1 Score:\", f1_score))\n"
   ]
  },
  {
   "attachments": {},
   "cell_type": "markdown",
   "metadata": {},
   "source": [
    "## QUESTION 3"
   ]
  },
  {
   "attachments": {},
   "cell_type": "markdown",
   "metadata": {},
   "source": [
    "In order to respond to this question we choose the gradient descent tree "
   ]
  },
  {
   "cell_type": "code",
   "execution_count": 33,
   "metadata": {
    "vscode": {
     "languageId": "r"
    }
   },
   "outputs": [
    {
     "name": "stdout",
     "output_type": "stream",
     "text": [
      "\n",
      "Les packages binaires t'el'echarg'es sont dans\n",
      "\t/var/folders/7j/n3q0pxkj3fvc8pf6rq5cpq680000gn/T//RtmpvzmHz1/downloaded_packages\n"
     ]
    },
    {
     "name": "stderr",
     "output_type": "stream",
     "text": [
      "\n",
      "Attachement du package : 'xgboost'\n",
      "\n",
      "\n",
      "L'objet suivant est masqu'e depuis 'package:dplyr':\n",
      "\n",
      "    slice\n",
      "\n",
      "\n"
     ]
    }
   ],
   "source": [
    "install.packages(\"xgboost\")\n",
    "library(xgboost)"
   ]
  },
  {
   "cell_type": "code",
   "execution_count": null,
   "metadata": {
    "vscode": {
     "languageId": "r"
    }
   },
   "outputs": [],
   "source": [
    "set.seed(12)"
   ]
  },
  {
   "cell_type": "code",
   "execution_count": 83,
   "metadata": {
    "vscode": {
     "languageId": "r"
    }
   },
   "outputs": [
    {
     "name": "stdout",
     "output_type": "stream",
     "text": [
      "[1] \"Training Set Size: 182420 Test Set Size: 78181\"\n",
      "[1]\ttrain-mlogloss:0.967157 \n",
      "[2]\ttrain-mlogloss:0.887167 \n",
      "[3]\ttrain-mlogloss:0.832852 \n",
      "[4]\ttrain-mlogloss:0.795882 \n",
      "[5]\ttrain-mlogloss:0.770692 \n",
      "[6]\ttrain-mlogloss:0.750833 \n",
      "[7]\ttrain-mlogloss:0.735796 \n",
      "[8]\ttrain-mlogloss:0.724776 \n",
      "[9]\ttrain-mlogloss:0.716073 \n",
      "[10]\ttrain-mlogloss:0.709228 \n",
      "[11]\ttrain-mlogloss:0.703838 \n",
      "[12]\ttrain-mlogloss:0.698844 \n",
      "[13]\ttrain-mlogloss:0.694079 \n",
      "[14]\ttrain-mlogloss:0.690547 \n",
      "[15]\ttrain-mlogloss:0.686547 \n",
      "[16]\ttrain-mlogloss:0.683835 \n",
      "[17]\ttrain-mlogloss:0.681364 \n",
      "[18]\ttrain-mlogloss:0.679077 \n",
      "[19]\ttrain-mlogloss:0.676339 \n",
      "[20]\ttrain-mlogloss:0.674838 \n",
      "[21]\ttrain-mlogloss:0.672841 \n",
      "[22]\ttrain-mlogloss:0.670754 \n",
      "[23]\ttrain-mlogloss:0.669369 \n",
      "[24]\ttrain-mlogloss:0.667108 \n",
      "[25]\ttrain-mlogloss:0.665655 \n",
      "[26]\ttrain-mlogloss:0.663007 \n",
      "[27]\ttrain-mlogloss:0.661329 \n",
      "[28]\ttrain-mlogloss:0.659646 \n",
      "[29]\ttrain-mlogloss:0.658578 \n",
      "[30]\ttrain-mlogloss:0.657493 \n",
      "[31]\ttrain-mlogloss:0.655748 \n",
      "[32]\ttrain-mlogloss:0.654468 \n",
      "[33]\ttrain-mlogloss:0.653256 \n",
      "[34]\ttrain-mlogloss:0.652725 \n",
      "[35]\ttrain-mlogloss:0.651025 \n",
      "[36]\ttrain-mlogloss:0.649072 \n",
      "[37]\ttrain-mlogloss:0.647957 \n",
      "[38]\ttrain-mlogloss:0.646440 \n",
      "[39]\ttrain-mlogloss:0.645351 \n",
      "[40]\ttrain-mlogloss:0.643684 \n",
      "[41]\ttrain-mlogloss:0.643093 \n",
      "[42]\ttrain-mlogloss:0.641833 \n",
      "[43]\ttrain-mlogloss:0.640767 \n",
      "[44]\ttrain-mlogloss:0.639720 \n",
      "[45]\ttrain-mlogloss:0.638748 \n",
      "[46]\ttrain-mlogloss:0.637830 \n",
      "[47]\ttrain-mlogloss:0.637116 \n",
      "[48]\ttrain-mlogloss:0.635223 \n",
      "[49]\ttrain-mlogloss:0.634163 \n",
      "[50]\ttrain-mlogloss:0.632905 \n"
     ]
    },
    {
     "data": {
      "text/html": [
       "<table class=\"dataframe\">\n",
       "<caption>A data.table: 31 x 4</caption>\n",
       "<thead>\n",
       "\t<tr><th scope=col>Feature</th><th scope=col>Gain</th><th scope=col>Cover</th><th scope=col>Frequency</th></tr>\n",
       "\t<tr><th scope=col>&lt;chr&gt;</th><th scope=col>&lt;dbl&gt;</th><th scope=col>&lt;dbl&gt;</th><th scope=col>&lt;dbl&gt;</th></tr>\n",
       "</thead>\n",
       "<tbody>\n",
       "\t<tr><td>geo_level_1_id                        </td><td>4.613575e-01</td><td>2.295124e-01</td><td>0.2005491226</td></tr>\n",
       "\t<tr><td>foundation_typer                      </td><td>2.054811e-01</td><td>3.670187e-02</td><td>0.0223230273</td></tr>\n",
       "\t<tr><td>geo_level_2_id                        </td><td>1.577474e-01</td><td>3.615398e-01</td><td>0.3139548764</td></tr>\n",
       "\t<tr><td>age                                   </td><td>4.617877e-02</td><td>6.341025e-02</td><td>0.0954995822</td></tr>\n",
       "\t<tr><td>other_floor_typeq                     </td><td>3.489330e-02</td><td>3.011592e-02</td><td>0.0298436194</td></tr>\n",
       "\t<tr><td>area_percentage                       </td><td>1.706311e-02</td><td>5.278569e-02</td><td>0.0989614420</td></tr>\n",
       "\t<tr><td>roof_typen                            </td><td>1.522933e-02</td><td>1.041058e-02</td><td>0.0304404918</td></tr>\n",
       "\t<tr><td>has_superstructure_timber             </td><td>9.145698e-03</td><td>1.122860e-02</td><td>0.0263817596</td></tr>\n",
       "\t<tr><td>has_superstructure_stone_flag         </td><td>8.819610e-03</td><td>1.370306e-02</td><td>0.0127730691</td></tr>\n",
       "\t<tr><td>count_families                        </td><td>6.741150e-03</td><td>8.422545e-03</td><td>0.0206517846</td></tr>\n",
       "\t<tr><td>has_superstructure_adobe_mud          </td><td>4.983154e-03</td><td>7.696619e-03</td><td>0.0145636863</td></tr>\n",
       "\t<tr><td>has_superstructure_rc_non_engineered  </td><td>4.405176e-03</td><td>3.581994e-03</td><td>0.0159961800</td></tr>\n",
       "\t<tr><td>land_surface_conditiont               </td><td>3.438934e-03</td><td>8.509145e-03</td><td>0.0174286737</td></tr>\n",
       "\t<tr><td>has_secondary_use_hotel               </td><td>3.143364e-03</td><td>1.611854e-02</td><td>0.0112212009</td></tr>\n",
       "\t<tr><td>has_superstructure_other              </td><td>3.030797e-03</td><td>6.203379e-03</td><td>0.0113405754</td></tr>\n",
       "\t<tr><td>has_superstructure_bamboo             </td><td>3.000957e-03</td><td>4.580217e-03</td><td>0.0125343202</td></tr>\n",
       "\t<tr><td>positionj                             </td><td>2.691273e-03</td><td>1.951861e-02</td><td>0.0085949624</td></tr>\n",
       "\t<tr><td>plan_configurationu                   </td><td>2.575726e-03</td><td>1.722893e-02</td><td>0.0060880984</td></tr>\n",
       "\t<tr><td>has_superstructure_cement_mortar_stone</td><td>2.330454e-03</td><td>1.231941e-02</td><td>0.0084755879</td></tr>\n",
       "\t<tr><td>positiont                             </td><td>1.583086e-03</td><td>2.173286e-02</td><td>0.0134893160</td></tr>\n",
       "\t<tr><td>has_secondary_use_rental              </td><td>1.460926e-03</td><td>1.450874e-02</td><td>0.0045362302</td></tr>\n",
       "\t<tr><td>legal_ownership_statusa               </td><td>1.163851e-03</td><td>2.922727e-03</td><td>0.0074012176</td></tr>\n",
       "\t<tr><td>land_surface_conditiono               </td><td>1.129735e-03</td><td>9.607672e-03</td><td>0.0047749791</td></tr>\n",
       "\t<tr><td>has_secondary_use_other               </td><td>1.098018e-03</td><td>9.930073e-03</td><td>0.0044168557</td></tr>\n",
       "\t<tr><td>ground_floor_typez                    </td><td>4.825954e-04</td><td>2.358280e-03</td><td>0.0026262385</td></tr>\n",
       "\t<tr><td>plan_configurationa                   </td><td>2.885654e-04</td><td>4.208770e-03</td><td>0.0015518682</td></tr>\n",
       "\t<tr><td>ground_floor_typem                    </td><td>2.273390e-04</td><td>1.034466e-02</td><td>0.0013131193</td></tr>\n",
       "\t<tr><td>plan_configurationc                   </td><td>1.794137e-04</td><td>4.709073e-03</td><td>0.0010743703</td></tr>\n",
       "\t<tr><td>has_secondary_use_institution         </td><td>8.415892e-05</td><td>3.666979e-03</td><td>0.0007162469</td></tr>\n",
       "\t<tr><td>plan_configurationo                   </td><td>4.246296e-05</td><td>2.417248e-03</td><td>0.0003581234</td></tr>\n",
       "\t<tr><td>has_secondary_use_industry            </td><td>3.069150e-06</td><td>5.302293e-06</td><td>0.0001193745</td></tr>\n",
       "</tbody>\n",
       "</table>\n"
      ],
      "text/latex": [
       "A data.table: 31 x 4\n",
       "\\begin{tabular}{llll}\n",
       " Feature & Gain & Cover & Frequency\\\\\n",
       " <chr> & <dbl> & <dbl> & <dbl>\\\\\n",
       "\\hline\n",
       "\t geo\\_level\\_1\\_id                         & 4.613575e-01 & 2.295124e-01 & 0.2005491226\\\\\n",
       "\t foundation\\_typer                       & 2.054811e-01 & 3.670187e-02 & 0.0223230273\\\\\n",
       "\t geo\\_level\\_2\\_id                         & 1.577474e-01 & 3.615398e-01 & 0.3139548764\\\\\n",
       "\t age                                    & 4.617877e-02 & 6.341025e-02 & 0.0954995822\\\\\n",
       "\t other\\_floor\\_typeq                      & 3.489330e-02 & 3.011592e-02 & 0.0298436194\\\\\n",
       "\t area\\_percentage                        & 1.706311e-02 & 5.278569e-02 & 0.0989614420\\\\\n",
       "\t roof\\_typen                             & 1.522933e-02 & 1.041058e-02 & 0.0304404918\\\\\n",
       "\t has\\_superstructure\\_timber              & 9.145698e-03 & 1.122860e-02 & 0.0263817596\\\\\n",
       "\t has\\_superstructure\\_stone\\_flag          & 8.819610e-03 & 1.370306e-02 & 0.0127730691\\\\\n",
       "\t count\\_families                         & 6.741150e-03 & 8.422545e-03 & 0.0206517846\\\\\n",
       "\t has\\_superstructure\\_adobe\\_mud           & 4.983154e-03 & 7.696619e-03 & 0.0145636863\\\\\n",
       "\t has\\_superstructure\\_rc\\_non\\_engineered   & 4.405176e-03 & 3.581994e-03 & 0.0159961800\\\\\n",
       "\t land\\_surface\\_conditiont                & 3.438934e-03 & 8.509145e-03 & 0.0174286737\\\\\n",
       "\t has\\_secondary\\_use\\_hotel                & 3.143364e-03 & 1.611854e-02 & 0.0112212009\\\\\n",
       "\t has\\_superstructure\\_other               & 3.030797e-03 & 6.203379e-03 & 0.0113405754\\\\\n",
       "\t has\\_superstructure\\_bamboo              & 3.000957e-03 & 4.580217e-03 & 0.0125343202\\\\\n",
       "\t positionj                              & 2.691273e-03 & 1.951861e-02 & 0.0085949624\\\\\n",
       "\t plan\\_configurationu                    & 2.575726e-03 & 1.722893e-02 & 0.0060880984\\\\\n",
       "\t has\\_superstructure\\_cement\\_mortar\\_stone & 2.330454e-03 & 1.231941e-02 & 0.0084755879\\\\\n",
       "\t positiont                              & 1.583086e-03 & 2.173286e-02 & 0.0134893160\\\\\n",
       "\t has\\_secondary\\_use\\_rental               & 1.460926e-03 & 1.450874e-02 & 0.0045362302\\\\\n",
       "\t legal\\_ownership\\_statusa                & 1.163851e-03 & 2.922727e-03 & 0.0074012176\\\\\n",
       "\t land\\_surface\\_conditiono                & 1.129735e-03 & 9.607672e-03 & 0.0047749791\\\\\n",
       "\t has\\_secondary\\_use\\_other                & 1.098018e-03 & 9.930073e-03 & 0.0044168557\\\\\n",
       "\t ground\\_floor\\_typez                     & 4.825954e-04 & 2.358280e-03 & 0.0026262385\\\\\n",
       "\t plan\\_configurationa                    & 2.885654e-04 & 4.208770e-03 & 0.0015518682\\\\\n",
       "\t ground\\_floor\\_typem                     & 2.273390e-04 & 1.034466e-02 & 0.0013131193\\\\\n",
       "\t plan\\_configurationc                    & 1.794137e-04 & 4.709073e-03 & 0.0010743703\\\\\n",
       "\t has\\_secondary\\_use\\_institution          & 8.415892e-05 & 3.666979e-03 & 0.0007162469\\\\\n",
       "\t plan\\_configurationo                    & 4.246296e-05 & 2.417248e-03 & 0.0003581234\\\\\n",
       "\t has\\_secondary\\_use\\_industry             & 3.069150e-06 & 5.302293e-06 & 0.0001193745\\\\\n",
       "\\end{tabular}\n"
      ],
      "text/markdown": [
       "\n",
       "A data.table: 31 x 4\n",
       "\n",
       "| Feature &lt;chr&gt; | Gain &lt;dbl&gt; | Cover &lt;dbl&gt; | Frequency &lt;dbl&gt; |\n",
       "|---|---|---|---|\n",
       "| geo_level_1_id                         | 4.613575e-01 | 2.295124e-01 | 0.2005491226 |\n",
       "| foundation_typer                       | 2.054811e-01 | 3.670187e-02 | 0.0223230273 |\n",
       "| geo_level_2_id                         | 1.577474e-01 | 3.615398e-01 | 0.3139548764 |\n",
       "| age                                    | 4.617877e-02 | 6.341025e-02 | 0.0954995822 |\n",
       "| other_floor_typeq                      | 3.489330e-02 | 3.011592e-02 | 0.0298436194 |\n",
       "| area_percentage                        | 1.706311e-02 | 5.278569e-02 | 0.0989614420 |\n",
       "| roof_typen                             | 1.522933e-02 | 1.041058e-02 | 0.0304404918 |\n",
       "| has_superstructure_timber              | 9.145698e-03 | 1.122860e-02 | 0.0263817596 |\n",
       "| has_superstructure_stone_flag          | 8.819610e-03 | 1.370306e-02 | 0.0127730691 |\n",
       "| count_families                         | 6.741150e-03 | 8.422545e-03 | 0.0206517846 |\n",
       "| has_superstructure_adobe_mud           | 4.983154e-03 | 7.696619e-03 | 0.0145636863 |\n",
       "| has_superstructure_rc_non_engineered   | 4.405176e-03 | 3.581994e-03 | 0.0159961800 |\n",
       "| land_surface_conditiont                | 3.438934e-03 | 8.509145e-03 | 0.0174286737 |\n",
       "| has_secondary_use_hotel                | 3.143364e-03 | 1.611854e-02 | 0.0112212009 |\n",
       "| has_superstructure_other               | 3.030797e-03 | 6.203379e-03 | 0.0113405754 |\n",
       "| has_superstructure_bamboo              | 3.000957e-03 | 4.580217e-03 | 0.0125343202 |\n",
       "| positionj                              | 2.691273e-03 | 1.951861e-02 | 0.0085949624 |\n",
       "| plan_configurationu                    | 2.575726e-03 | 1.722893e-02 | 0.0060880984 |\n",
       "| has_superstructure_cement_mortar_stone | 2.330454e-03 | 1.231941e-02 | 0.0084755879 |\n",
       "| positiont                              | 1.583086e-03 | 2.173286e-02 | 0.0134893160 |\n",
       "| has_secondary_use_rental               | 1.460926e-03 | 1.450874e-02 | 0.0045362302 |\n",
       "| legal_ownership_statusa                | 1.163851e-03 | 2.922727e-03 | 0.0074012176 |\n",
       "| land_surface_conditiono                | 1.129735e-03 | 9.607672e-03 | 0.0047749791 |\n",
       "| has_secondary_use_other                | 1.098018e-03 | 9.930073e-03 | 0.0044168557 |\n",
       "| ground_floor_typez                     | 4.825954e-04 | 2.358280e-03 | 0.0026262385 |\n",
       "| plan_configurationa                    | 2.885654e-04 | 4.208770e-03 | 0.0015518682 |\n",
       "| ground_floor_typem                     | 2.273390e-04 | 1.034466e-02 | 0.0013131193 |\n",
       "| plan_configurationc                    | 1.794137e-04 | 4.709073e-03 | 0.0010743703 |\n",
       "| has_secondary_use_institution          | 8.415892e-05 | 3.666979e-03 | 0.0007162469 |\n",
       "| plan_configurationo                    | 4.246296e-05 | 2.417248e-03 | 0.0003581234 |\n",
       "| has_secondary_use_industry             | 3.069150e-06 | 5.302293e-06 | 0.0001193745 |\n",
       "\n"
      ],
      "text/plain": [
       "   Feature                                Gain         Cover       \n",
       "1  geo_level_1_id                         4.613575e-01 2.295124e-01\n",
       "2  foundation_typer                       2.054811e-01 3.670187e-02\n",
       "3  geo_level_2_id                         1.577474e-01 3.615398e-01\n",
       "4  age                                    4.617877e-02 6.341025e-02\n",
       "5  other_floor_typeq                      3.489330e-02 3.011592e-02\n",
       "6  area_percentage                        1.706311e-02 5.278569e-02\n",
       "7  roof_typen                             1.522933e-02 1.041058e-02\n",
       "8  has_superstructure_timber              9.145698e-03 1.122860e-02\n",
       "9  has_superstructure_stone_flag          8.819610e-03 1.370306e-02\n",
       "10 count_families                         6.741150e-03 8.422545e-03\n",
       "11 has_superstructure_adobe_mud           4.983154e-03 7.696619e-03\n",
       "12 has_superstructure_rc_non_engineered   4.405176e-03 3.581994e-03\n",
       "13 land_surface_conditiont                3.438934e-03 8.509145e-03\n",
       "14 has_secondary_use_hotel                3.143364e-03 1.611854e-02\n",
       "15 has_superstructure_other               3.030797e-03 6.203379e-03\n",
       "16 has_superstructure_bamboo              3.000957e-03 4.580217e-03\n",
       "17 positionj                              2.691273e-03 1.951861e-02\n",
       "18 plan_configurationu                    2.575726e-03 1.722893e-02\n",
       "19 has_superstructure_cement_mortar_stone 2.330454e-03 1.231941e-02\n",
       "20 positiont                              1.583086e-03 2.173286e-02\n",
       "21 has_secondary_use_rental               1.460926e-03 1.450874e-02\n",
       "22 legal_ownership_statusa                1.163851e-03 2.922727e-03\n",
       "23 land_surface_conditiono                1.129735e-03 9.607672e-03\n",
       "24 has_secondary_use_other                1.098018e-03 9.930073e-03\n",
       "25 ground_floor_typez                     4.825954e-04 2.358280e-03\n",
       "26 plan_configurationa                    2.885654e-04 4.208770e-03\n",
       "27 ground_floor_typem                     2.273390e-04 1.034466e-02\n",
       "28 plan_configurationc                    1.794137e-04 4.709073e-03\n",
       "29 has_secondary_use_institution          8.415892e-05 3.666979e-03\n",
       "30 plan_configurationo                    4.246296e-05 2.417248e-03\n",
       "31 has_secondary_use_industry             3.069150e-06 5.302293e-06\n",
       "   Frequency   \n",
       "1  0.2005491226\n",
       "2  0.0223230273\n",
       "3  0.3139548764\n",
       "4  0.0954995822\n",
       "5  0.0298436194\n",
       "6  0.0989614420\n",
       "7  0.0304404918\n",
       "8  0.0263817596\n",
       "9  0.0127730691\n",
       "10 0.0206517846\n",
       "11 0.0145636863\n",
       "12 0.0159961800\n",
       "13 0.0174286737\n",
       "14 0.0112212009\n",
       "15 0.0113405754\n",
       "16 0.0125343202\n",
       "17 0.0085949624\n",
       "18 0.0060880984\n",
       "19 0.0084755879\n",
       "20 0.0134893160\n",
       "21 0.0045362302\n",
       "22 0.0074012176\n",
       "23 0.0047749791\n",
       "24 0.0044168557\n",
       "25 0.0026262385\n",
       "26 0.0015518682\n",
       "27 0.0013131193\n",
       "28 0.0010743703\n",
       "29 0.0007162469\n",
       "30 0.0003581234\n",
       "31 0.0001193745"
      ]
     },
     "metadata": {},
     "output_type": "display_data"
    },
    {
     "name": "stdout",
     "output_type": "stream",
     "text": [
      "[1] \"F1 Score: 0.70542714981901\"\n",
      "[1] \"Misclassification Rate on Damage Grade Prediction: 0.29457285018099\"\n",
      "[1] \"Accuracy on Damage Grade Prediction: 0.70542714981901\"\n"
     ]
    }
   ],
   "source": [
    "# Creation of training and test sets\n",
    "shuffled_index <- sample(1:nrow(New_Train))\n",
    "\n",
    "# We indicate the ration between the test and training set\n",
    "half_index <- floor(nrow(New_Train)*0.7)\n",
    "\n",
    "# Creation of training and test sets\n",
    "train_data <- New_Train[shuffled_index[1:half_index], ]\n",
    "test_data <- New_Train[shuffled_index[(half_index+1):nrow(New_Train)], ]\n",
    "\n",
    "print(paste(\"Training Set Size:\", half_index, \"Test Set Size:\", nrow(New_Train)-half_index))\n",
    "\n",
    "# Gradient boosting tree model (XGBoost) we choose 50 because we have a good resulat with this paramter\n",
    "model <- xgboost(data = as.matrix(train_data[, -ncol(train_data)]),\n",
    "                 label = train_data[, ncol(train_data)],\n",
    "                 nrounds = 50,\n",
    "                 objective = \"multi:softmax\",\n",
    "                 num_class = 3)\n",
    "\n",
    "# Varaibles importance\n",
    "xgb.importance(feature_names = colnames(train_data[, -ncol(train_data)]), model = model)\n",
    "\n",
    "# Predict step\n",
    "Y_pred <- predict(model, as.matrix(test_data[, -ncol(test_data)]))\n",
    "\n",
    "Y <- test_data[, ncol(test_data)]\n",
    "\n",
    "# confusion matrix\n",
    "confusion_matrix <- table(Y, Y_pred)\n",
    "\n",
    "# F1 score\n",
    "library(MLmetrics)\n",
    "f1_score <- F1_Score_micro(Y, Y_pred)\n",
    "print(paste(\"F1 Score:\", f1_score))\n",
    "\n",
    "accuracy <- sum(diag(confusion_matrix)) / sum(confusion_matrix)\n",
    "misclassification_rate <- 1 - accuracy\n",
    "print(paste(\"Misclassification Rate on Damage Grade Prediction:\", misclassification_rate))\n",
    "print(paste(\"Accuracy on Damage Grade Prediction:\", accuracy))\n",
    "\n"
   ]
  },
  {
   "attachments": {},
   "cell_type": "markdown",
   "metadata": {},
   "source": [
    "## QUESTION 4 "
   ]
  }
 ],
 "metadata": {
  "kernelspec": {
   "display_name": "R",
   "language": "R",
   "name": "ir"
  },
  "language_info": {
   "codemirror_mode": "r",
   "file_extension": ".r",
   "mimetype": "text/x-r-source",
   "name": "R",
   "pygments_lexer": "r",
   "version": "4.2.3"
  },
  "orig_nbformat": 4
 },
 "nbformat": 4,
 "nbformat_minor": 2
}
