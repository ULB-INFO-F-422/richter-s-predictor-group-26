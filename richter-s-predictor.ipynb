{
  "nbformat": 4,
  "nbformat_minor": 0,
  "metadata": {
    "colab": {
      "provenance": []
    },
    "kernelspec": {
      "name": "ir",
      "display_name": "R"
    },
    "language_info": {
      "name": "R"
    }
  },
  "cells": [
    {
      "cell_type": "markdown",
      "metadata": {
        "id": "leoCabPp5DjN"
      },
      "source": [
        "# INFO-F422 -  Statistical Foundations of Machine Learning Project \n",
        "\n",
        "### Talhaoui Yassin - __[yassin.talhaoui@ulb.be](mailto:yassin.talhaoui@ulb.be)__\n",
        "### Oumahi Abdelmoumen - __[abdelmoumen.oumahi@ulb.be](mailto:abdelmoumen.oumahi@ulb.be)__\n",
        "\n",
        "## Richter's Predictor: Modeling Earthquake Damage\n",
        "\n",
        "####  Mai 2, 2023\n"
      ]
    }
  ]
}